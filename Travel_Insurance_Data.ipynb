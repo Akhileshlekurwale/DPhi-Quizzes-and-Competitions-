{
  "nbformat": 4,
  "nbformat_minor": 0,
  "metadata": {
    "colab": {
      "name": "Travel Insurance Data.ipynb",
      "provenance": [],
      "collapsed_sections": []
    },
    "kernelspec": {
      "name": "python3",
      "display_name": "Python 3"
    }
  },
  "cells": [
    {
      "cell_type": "code",
      "metadata": {
        "colab": {
          "base_uri": "https://localhost:8080/"
        },
        "id": "OK-u7lXjFU-A",
        "outputId": "a39c64b0-4b5a-4e7e-aa09-5b115298c018"
      },
      "source": [
        "!pip install scikit-learn==0.23.1"
      ],
      "execution_count": null,
      "outputs": [
        {
          "output_type": "stream",
          "text": [
            "Collecting scikit-learn==0.23.1\n",
            "\u001b[?25l  Downloading https://files.pythonhosted.org/packages/d9/3a/eb8d7bbe28f4787d140bb9df685b7d5bf6115c0e2a969def4027144e98b6/scikit_learn-0.23.1-cp36-cp36m-manylinux1_x86_64.whl (6.8MB)\n",
            "\u001b[K     |████████████████████████████████| 6.9MB 6.3MB/s \n",
            "\u001b[?25hRequirement already satisfied: joblib>=0.11 in /usr/local/lib/python3.6/dist-packages (from scikit-learn==0.23.1) (0.17.0)\n",
            "Requirement already satisfied: scipy>=0.19.1 in /usr/local/lib/python3.6/dist-packages (from scikit-learn==0.23.1) (1.4.1)\n",
            "Requirement already satisfied: numpy>=1.13.3 in /usr/local/lib/python3.6/dist-packages (from scikit-learn==0.23.1) (1.18.5)\n",
            "Collecting threadpoolctl>=2.0.0\n",
            "  Downloading https://files.pythonhosted.org/packages/f7/12/ec3f2e203afa394a149911729357aa48affc59c20e2c1c8297a60f33f133/threadpoolctl-2.1.0-py3-none-any.whl\n",
            "Installing collected packages: threadpoolctl, scikit-learn\n",
            "  Found existing installation: scikit-learn 0.22.2.post1\n",
            "    Uninstalling scikit-learn-0.22.2.post1:\n",
            "      Successfully uninstalled scikit-learn-0.22.2.post1\n",
            "Successfully installed scikit-learn-0.23.1 threadpoolctl-2.1.0\n"
          ],
          "name": "stdout"
        }
      ]
    },
    {
      "cell_type": "code",
      "metadata": {
        "colab": {
          "base_uri": "https://localhost:8080/"
        },
        "id": "fZHrJnYVFrpK",
        "outputId": "e2fe84db-94bb-4bc9-b708-918af8aac1f3"
      },
      "source": [
        "!pip install imblearn"
      ],
      "execution_count": null,
      "outputs": [
        {
          "output_type": "stream",
          "text": [
            "Requirement already satisfied: imblearn in /usr/local/lib/python3.6/dist-packages (0.0)\n",
            "Requirement already satisfied: imbalanced-learn in /usr/local/lib/python3.6/dist-packages (from imblearn) (0.4.3)\n",
            "Requirement already satisfied: scipy>=0.13.3 in /usr/local/lib/python3.6/dist-packages (from imbalanced-learn->imblearn) (1.4.1)\n",
            "Requirement already satisfied: scikit-learn>=0.20 in /usr/local/lib/python3.6/dist-packages (from imbalanced-learn->imblearn) (0.23.1)\n",
            "Requirement already satisfied: numpy>=1.8.2 in /usr/local/lib/python3.6/dist-packages (from imbalanced-learn->imblearn) (1.18.5)\n",
            "Requirement already satisfied: threadpoolctl>=2.0.0 in /usr/local/lib/python3.6/dist-packages (from scikit-learn>=0.20->imbalanced-learn->imblearn) (2.1.0)\n",
            "Requirement already satisfied: joblib>=0.11 in /usr/local/lib/python3.6/dist-packages (from scikit-learn>=0.20->imbalanced-learn->imblearn) (0.17.0)\n"
          ],
          "name": "stdout"
        }
      ]
    },
    {
      "cell_type": "code",
      "metadata": {
        "id": "Rx6DbgLtFxtC"
      },
      "source": [
        "import pandas as pd\r\n",
        "insurance_data = pd.read_csv(\"https://github.com/dphi-official/Datasets/blob/master/travel_insurance/Training_set_label.csv?raw=true\")"
      ],
      "execution_count": null,
      "outputs": []
    },
    {
      "cell_type": "code",
      "metadata": {
        "colab": {
          "base_uri": "https://localhost:8080/",
          "height": 279
        },
        "id": "5vtTsg04GmD3",
        "outputId": "a92a4a48-8d93-4ec8-d712-ba3ad771be7c"
      },
      "source": [
        "insurance_data.head()"
      ],
      "execution_count": null,
      "outputs": [
        {
          "output_type": "execute_result",
          "data": {
            "text/html": [
              "<div>\n",
              "<style scoped>\n",
              "    .dataframe tbody tr th:only-of-type {\n",
              "        vertical-align: middle;\n",
              "    }\n",
              "\n",
              "    .dataframe tbody tr th {\n",
              "        vertical-align: top;\n",
              "    }\n",
              "\n",
              "    .dataframe thead th {\n",
              "        text-align: right;\n",
              "    }\n",
              "</style>\n",
              "<table border=\"1\" class=\"dataframe\">\n",
              "  <thead>\n",
              "    <tr style=\"text-align: right;\">\n",
              "      <th></th>\n",
              "      <th>Agency</th>\n",
              "      <th>Agency Type</th>\n",
              "      <th>Distribution Channel</th>\n",
              "      <th>Product Name</th>\n",
              "      <th>Duration</th>\n",
              "      <th>Destination</th>\n",
              "      <th>Net Sales</th>\n",
              "      <th>Commision (in value)</th>\n",
              "      <th>Gender</th>\n",
              "      <th>Age</th>\n",
              "      <th>Claim</th>\n",
              "    </tr>\n",
              "  </thead>\n",
              "  <tbody>\n",
              "    <tr>\n",
              "      <th>0</th>\n",
              "      <td>CWT</td>\n",
              "      <td>Travel Agency</td>\n",
              "      <td>Online</td>\n",
              "      <td>Rental Vehicle Excess Insurance</td>\n",
              "      <td>61</td>\n",
              "      <td>UNITED KINGDOM</td>\n",
              "      <td>19.8</td>\n",
              "      <td>11.88</td>\n",
              "      <td>NaN</td>\n",
              "      <td>29</td>\n",
              "      <td>0</td>\n",
              "    </tr>\n",
              "    <tr>\n",
              "      <th>1</th>\n",
              "      <td>EPX</td>\n",
              "      <td>Travel Agency</td>\n",
              "      <td>Online</td>\n",
              "      <td>Cancellation Plan</td>\n",
              "      <td>93</td>\n",
              "      <td>NEW ZEALAND</td>\n",
              "      <td>63.0</td>\n",
              "      <td>0.00</td>\n",
              "      <td>NaN</td>\n",
              "      <td>36</td>\n",
              "      <td>0</td>\n",
              "    </tr>\n",
              "    <tr>\n",
              "      <th>2</th>\n",
              "      <td>EPX</td>\n",
              "      <td>Travel Agency</td>\n",
              "      <td>Online</td>\n",
              "      <td>2 way Comprehensive Plan</td>\n",
              "      <td>22</td>\n",
              "      <td>UNITED STATES</td>\n",
              "      <td>22.0</td>\n",
              "      <td>0.00</td>\n",
              "      <td>NaN</td>\n",
              "      <td>25</td>\n",
              "      <td>0</td>\n",
              "    </tr>\n",
              "    <tr>\n",
              "      <th>3</th>\n",
              "      <td>C2B</td>\n",
              "      <td>Airlines</td>\n",
              "      <td>Online</td>\n",
              "      <td>Silver Plan</td>\n",
              "      <td>14</td>\n",
              "      <td>SINGAPORE</td>\n",
              "      <td>54.5</td>\n",
              "      <td>13.63</td>\n",
              "      <td>M</td>\n",
              "      <td>24</td>\n",
              "      <td>0</td>\n",
              "    </tr>\n",
              "    <tr>\n",
              "      <th>4</th>\n",
              "      <td>EPX</td>\n",
              "      <td>Travel Agency</td>\n",
              "      <td>Online</td>\n",
              "      <td>Cancellation Plan</td>\n",
              "      <td>90</td>\n",
              "      <td>VIET NAM</td>\n",
              "      <td>10.0</td>\n",
              "      <td>0.00</td>\n",
              "      <td>NaN</td>\n",
              "      <td>23</td>\n",
              "      <td>0</td>\n",
              "    </tr>\n",
              "  </tbody>\n",
              "</table>\n",
              "</div>"
            ],
            "text/plain": [
              "  Agency    Agency Type Distribution Channel  ... Gender  Age Claim\n",
              "0    CWT  Travel Agency               Online  ...    NaN   29     0\n",
              "1    EPX  Travel Agency               Online  ...    NaN   36     0\n",
              "2    EPX  Travel Agency               Online  ...    NaN   25     0\n",
              "3    C2B       Airlines               Online  ...      M   24     0\n",
              "4    EPX  Travel Agency               Online  ...    NaN   23     0\n",
              "\n",
              "[5 rows x 11 columns]"
            ]
          },
          "metadata": {
            "tags": []
          },
          "execution_count": 13
        }
      ]
    },
    {
      "cell_type": "code",
      "metadata": {
        "colab": {
          "base_uri": "https://localhost:8080/"
        },
        "id": "elWRR39aGqlw",
        "outputId": "714a380b-48dd-42c2-b574-e9fd5b20d7ec"
      },
      "source": [
        "insurance_data.isnull().mean()"
      ],
      "execution_count": null,
      "outputs": [
        {
          "output_type": "execute_result",
          "data": {
            "text/plain": [
              "Agency                  0.000000\n",
              "Agency Type             0.000000\n",
              "Distribution Channel    0.000000\n",
              "Product Name            0.000000\n",
              "Duration                0.000000\n",
              "Destination             0.000000\n",
              "Net Sales               0.000000\n",
              "Commision (in value)    0.000000\n",
              "Gender                  0.711998\n",
              "Age                     0.000000\n",
              "Claim                   0.000000\n",
              "dtype: float64"
            ]
          },
          "metadata": {
            "tags": []
          },
          "execution_count": 14
        }
      ]
    },
    {
      "cell_type": "code",
      "metadata": {
        "colab": {
          "base_uri": "https://localhost:8080/",
          "height": 283
        },
        "id": "UhlWUdtHHDA-",
        "outputId": "e3e1d041-e9b4-4d35-9e9a-3b0e69d3aa3b"
      },
      "source": [
        "insurance_data['Duration'].hist(bins=1)"
      ],
      "execution_count": null,
      "outputs": [
        {
          "output_type": "execute_result",
          "data": {
            "text/plain": [
              "<matplotlib.axes._subplots.AxesSubplot at 0x7fe729714cc0>"
            ]
          },
          "metadata": {
            "tags": []
          },
          "execution_count": 15
        },
        {
          "output_type": "display_data",
          "data": {
            "image/png": "[encoded data removed]",
            "text/plain": [
              "<Figure size 432x288 with 1 Axes>"
            ]
          },
          "metadata": {
            "tags": [],
            "needs_background": "light"
          }
        }
      ]
    },
    {
      "cell_type": "code",
      "metadata": {
        "colab": {
          "base_uri": "https://localhost:8080/",
          "height": 284
        },
        "id": "dKliQ2tmHdOm",
        "outputId": "ea06e2b6-6969-4da9-f0ac-ecaa635c260d"
      },
      "source": [
        "insurance_data.describe()"
      ],
      "execution_count": null,
      "outputs": [
        {
          "output_type": "execute_result",
          "data": {
            "text/html": [
              "<div>\n",
              "<style scoped>\n",
              "    .dataframe tbody tr th:only-of-type {\n",
              "        vertical-align: middle;\n",
              "    }\n",
              "\n",
              "    .dataframe tbody tr th {\n",
              "        vertical-align: top;\n",
              "    }\n",
              "\n",
              "    .dataframe thead th {\n",
              "        text-align: right;\n",
              "    }\n",
              "</style>\n",
              "<table border=\"1\" class=\"dataframe\">\n",
              "  <thead>\n",
              "    <tr style=\"text-align: right;\">\n",
              "      <th></th>\n",
              "      <th>Duration</th>\n",
              "      <th>Net Sales</th>\n",
              "      <th>Commision (in value)</th>\n",
              "      <th>Age</th>\n",
              "      <th>Claim</th>\n",
              "    </tr>\n",
              "  </thead>\n",
              "  <tbody>\n",
              "    <tr>\n",
              "      <th>count</th>\n",
              "      <td>48260.000000</td>\n",
              "      <td>48260.000000</td>\n",
              "      <td>48260.000000</td>\n",
              "      <td>48260.000000</td>\n",
              "      <td>48260.000000</td>\n",
              "    </tr>\n",
              "    <tr>\n",
              "      <th>mean</th>\n",
              "      <td>49.546602</td>\n",
              "      <td>40.747647</td>\n",
              "      <td>9.811735</td>\n",
              "      <td>39.927269</td>\n",
              "      <td>0.014671</td>\n",
              "    </tr>\n",
              "    <tr>\n",
              "      <th>std</th>\n",
              "      <td>104.828147</td>\n",
              "      <td>48.823217</td>\n",
              "      <td>19.695339</td>\n",
              "      <td>14.027329</td>\n",
              "      <td>0.120231</td>\n",
              "    </tr>\n",
              "    <tr>\n",
              "      <th>min</th>\n",
              "      <td>-2.000000</td>\n",
              "      <td>-389.000000</td>\n",
              "      <td>0.000000</td>\n",
              "      <td>0.000000</td>\n",
              "      <td>0.000000</td>\n",
              "    </tr>\n",
              "    <tr>\n",
              "      <th>25%</th>\n",
              "      <td>9.000000</td>\n",
              "      <td>18.000000</td>\n",
              "      <td>0.000000</td>\n",
              "      <td>35.000000</td>\n",
              "      <td>0.000000</td>\n",
              "    </tr>\n",
              "    <tr>\n",
              "      <th>50%</th>\n",
              "      <td>22.000000</td>\n",
              "      <td>27.000000</td>\n",
              "      <td>0.000000</td>\n",
              "      <td>36.000000</td>\n",
              "      <td>0.000000</td>\n",
              "    </tr>\n",
              "    <tr>\n",
              "      <th>75%</th>\n",
              "      <td>53.000000</td>\n",
              "      <td>48.000000</td>\n",
              "      <td>11.630000</td>\n",
              "      <td>43.000000</td>\n",
              "      <td>0.000000</td>\n",
              "    </tr>\n",
              "    <tr>\n",
              "      <th>max</th>\n",
              "      <td>4881.000000</td>\n",
              "      <td>666.000000</td>\n",
              "      <td>262.760000</td>\n",
              "      <td>118.000000</td>\n",
              "      <td>1.000000</td>\n",
              "    </tr>\n",
              "  </tbody>\n",
              "</table>\n",
              "</div>"
            ],
            "text/plain": [
              "           Duration     Net Sales  ...           Age         Claim\n",
              "count  48260.000000  48260.000000  ...  48260.000000  48260.000000\n",
              "mean      49.546602     40.747647  ...     39.927269      0.014671\n",
              "std      104.828147     48.823217  ...     14.027329      0.120231\n",
              "min       -2.000000   -389.000000  ...      0.000000      0.000000\n",
              "25%        9.000000     18.000000  ...     35.000000      0.000000\n",
              "50%       22.000000     27.000000  ...     36.000000      0.000000\n",
              "75%       53.000000     48.000000  ...     43.000000      0.000000\n",
              "max     4881.000000    666.000000  ...    118.000000      1.000000\n",
              "\n",
              "[8 rows x 5 columns]"
            ]
          },
          "metadata": {
            "tags": []
          },
          "execution_count": 16
        }
      ]
    },
    {
      "cell_type": "code",
      "metadata": {
        "colab": {
          "base_uri": "https://localhost:8080/",
          "height": 136
        },
        "id": "4zCBBrF2I0jF",
        "outputId": "0ba6bfa6-be00-4328-d237-f759c5c86018"
      },
      "source": [
        "insurance_data.groupby('Gender').sum()"
      ],
      "execution_count": null,
      "outputs": [
        {
          "output_type": "execute_result",
          "data": {
            "text/html": [
              "<div>\n",
              "<style scoped>\n",
              "    .dataframe tbody tr th:only-of-type {\n",
              "        vertical-align: middle;\n",
              "    }\n",
              "\n",
              "    .dataframe tbody tr th {\n",
              "        vertical-align: top;\n",
              "    }\n",
              "\n",
              "    .dataframe thead th {\n",
              "        text-align: right;\n",
              "    }\n",
              "</style>\n",
              "<table border=\"1\" class=\"dataframe\">\n",
              "  <thead>\n",
              "    <tr style=\"text-align: right;\">\n",
              "      <th></th>\n",
              "      <th>Duration</th>\n",
              "      <th>Net Sales</th>\n",
              "      <th>Commision (in value)</th>\n",
              "      <th>Age</th>\n",
              "      <th>Claim</th>\n",
              "    </tr>\n",
              "    <tr>\n",
              "      <th>Gender</th>\n",
              "      <th></th>\n",
              "      <th></th>\n",
              "      <th></th>\n",
              "      <th></th>\n",
              "      <th></th>\n",
              "    </tr>\n",
              "  </thead>\n",
              "  <tbody>\n",
              "    <tr>\n",
              "      <th>F</th>\n",
              "      <td>511272</td>\n",
              "      <td>402862.68</td>\n",
              "      <td>128100.12</td>\n",
              "      <td>291072</td>\n",
              "      <td>255</td>\n",
              "    </tr>\n",
              "    <tr>\n",
              "      <th>M</th>\n",
              "      <td>441033</td>\n",
              "      <td>399729.27</td>\n",
              "      <td>129066.75</td>\n",
              "      <td>331410</td>\n",
              "      <td>228</td>\n",
              "    </tr>\n",
              "  </tbody>\n",
              "</table>\n",
              "</div>"
            ],
            "text/plain": [
              "        Duration  Net Sales  Commision (in value)     Age  Claim\n",
              "Gender                                                          \n",
              "F         511272  402862.68             128100.12  291072    255\n",
              "M         441033  399729.27             129066.75  331410    228"
            ]
          },
          "metadata": {
            "tags": []
          },
          "execution_count": 17
        }
      ]
    },
    {
      "cell_type": "code",
      "metadata": {
        "id": "8wvUs9_4KiPD"
      },
      "source": [
        "insurance_data['Gender'].fillna('Not Specified', inplace=True)"
      ],
      "execution_count": null,
      "outputs": []
    },
    {
      "cell_type": "code",
      "metadata": {
        "id": "zi4m2RoEPKsh"
      },
      "source": [
        "insurance_data = insurance_data.drop(['Distribution Channel', 'Destination', 'Agency Type'], axis =1 )"
      ],
      "execution_count": null,
      "outputs": []
    },
    {
      "cell_type": "code",
      "metadata": {
        "colab": {
          "base_uri": "https://localhost:8080/"
        },
        "id": "jmQuSCtwPRMp",
        "outputId": "1a5c23dc-5717-40e2-c536-30cb165f296f"
      },
      "source": [
        "from sklearn.preprocessing import OneHotEncoder\r\n",
        "\r\n",
        "encoder = OneHotEncoder(categories='auto',\r\n",
        "                       drop='first', # to return k-1, use drop=false to return k dummies\r\n",
        "                       sparse=False,\r\n",
        "                       handle_unknown='error') # helps deal with rare labels\r\n",
        "encoder.fit(insurance_data.fillna('Missing'))"
      ],
      "execution_count": null,
      "outputs": [
        {
          "output_type": "execute_result",
          "data": {
            "text/plain": [
              "OneHotEncoder(categories='auto', drop='first', dtype=<class 'numpy.float64'>,\n",
              "              handle_unknown='error', sparse=False)"
            ]
          },
          "metadata": {
            "tags": []
          },
          "execution_count": 20
        }
      ]
    },
    {
      "cell_type": "code",
      "metadata": {
        "colab": {
          "base_uri": "https://localhost:8080/"
        },
        "id": "JAaameF9aPUb",
        "outputId": "c1c725ef-4563-47aa-cafa-6b75f8d165f3"
      },
      "source": [
        "encoder.categories_"
      ],
      "execution_count": null,
      "outputs": [
        {
          "output_type": "execute_result",
          "data": {
            "text/plain": [
              "[array(['ADM', 'ART', 'C2B', 'CBH', 'CCR', 'CSR', 'CWT', 'EPX', 'JWT',\n",
              "        'JZI', 'KML', 'LWC', 'RAB', 'SSI', 'TST', 'TTW'], dtype=object),\n",
              " array(['1 way Comprehensive Plan', '2 way Comprehensive Plan',\n",
              "        '24 Protect', 'Annual Gold Plan', 'Annual Silver Plan',\n",
              "        'Annual Travel Protect Gold', 'Annual Travel Protect Platinum',\n",
              "        'Annual Travel Protect Silver', 'Basic Plan', 'Bronze Plan',\n",
              "        'Cancellation Plan', 'Child Comprehensive Plan',\n",
              "        'Comprehensive Plan', 'Gold Plan', 'Individual Comprehensive Plan',\n",
              "        'Premier Plan', 'Rental Vehicle Excess Insurance', 'Silver Plan',\n",
              "        'Single Trip Travel Protect Gold',\n",
              "        'Single Trip Travel Protect Platinum',\n",
              "        'Single Trip Travel Protect Silver',\n",
              "        'Spouse or Parents Comprehensive Plan', 'Ticket Protector',\n",
              "        'Travel Cruise Protect', 'Travel Cruise Protect Family',\n",
              "        'Value Plan'], dtype=object),\n",
              " array([  -2,   -1,    0,    1,    2,    3,    4,    5,    6,    7,    8,\n",
              "           9,   10,   11,   12,   13,   14,   15,   16,   17,   18,   19,\n",
              "          20,   21,   22,   23,   24,   25,   26,   27,   28,   29,   30,\n",
              "          31,   32,   33,   34,   35,   36,   37,   38,   39,   40,   41,\n",
              "          42,   43,   44,   45,   46,   47,   48,   49,   50,   51,   52,\n",
              "          53,   54,   55,   56,   57,   58,   59,   60,   61,   62,   63,\n",
              "          64,   65,   66,   67,   68,   69,   70,   71,   72,   73,   74,\n",
              "          75,   76,   77,   78,   79,   80,   81,   82,   83,   84,   85,\n",
              "          86,   87,   88,   89,   90,   91,   92,   93,   94,   95,   96,\n",
              "          97,   98,   99,  100,  101,  102,  103,  104,  105,  106,  107,\n",
              "         108,  109,  110,  111,  112,  113,  114,  115,  116,  117,  118,\n",
              "         119,  120,  121,  122,  123,  124,  125,  126,  127,  128,  129,\n",
              "         130,  131,  132,  133,  134,  135,  136,  137,  138,  139,  140,\n",
              "         141,  142,  143,  144,  145,  146,  147,  148,  149,  150,  151,\n",
              "         152,  153,  154,  155,  156,  157,  158,  159,  160,  161,  162,\n",
              "         163,  164,  165,  166,  167,  168,  169,  170,  171,  172,  173,\n",
              "         174,  175,  176,  177,  178,  179,  180,  181,  182,  183,  184,\n",
              "         185,  186,  187,  188,  189,  190,  191,  192,  193,  194,  195,\n",
              "         196,  197,  198,  199,  200,  201,  202,  203,  204,  205,  206,\n",
              "         207,  208,  209,  210,  211,  212,  213,  214,  215,  216,  217,\n",
              "         218,  219,  220,  221,  222,  223,  224,  225,  226,  227,  228,\n",
              "         229,  230,  231,  232,  233,  234,  235,  236,  237,  238,  239,\n",
              "         240,  241,  242,  243,  244,  245,  246,  247,  248,  249,  250,\n",
              "         251,  252,  253,  254,  255,  256,  257,  258,  259,  260,  261,\n",
              "         262,  263,  264,  265,  266,  267,  268,  269,  270,  271,  272,\n",
              "         273,  274,  275,  276,  277,  278,  279,  280,  281,  282,  283,\n",
              "         284,  285,  286,  287,  288,  289,  290,  291,  292,  293,  294,\n",
              "         295,  296,  297,  298,  299,  300,  301,  302,  303,  304,  305,\n",
              "         306,  307,  309,  310,  311,  312,  313,  314,  315,  316,  317,\n",
              "         318,  319,  321,  322,  323,  324,  325,  326,  327,  328,  329,\n",
              "         330,  331,  332,  350,  351,  361,  364,  365,  366,  367,  368,\n",
              "         369,  370,  371,  372,  373,  374,  375,  376,  377,  378,  379,\n",
              "         380,  381,  382,  383,  384,  385,  386,  387,  388,  389,  390,\n",
              "         391,  392,  393,  394,  395,  396,  397,  398,  399,  400,  401,\n",
              "         402,  403,  404,  405,  406,  407,  408,  409,  410,  411,  412,\n",
              "         413,  414,  415,  416,  417,  418,  419,  420,  421,  422,  423,\n",
              "         424,  425,  426,  427,  428,  430,  431,  432,  433,  434,  435,\n",
              "         436,  437,  441,  444,  448,  450,  457,  459,  461,  463,  465,\n",
              "         466,  472,  487,  488,  497,  508,  512,  519,  529,  531,  545,\n",
              "         740, 4580, 4609, 4652, 4685, 4736, 4815, 4829, 4831, 4844, 4847,\n",
              "        4857, 4881]),\n",
              " array([-389.  , -297.  , -291.75, ...,  572.5 ,  599.  ,  666.  ]),\n",
              " array([0.0000e+00, 2.0000e-02, 4.0000e-02, 5.0000e-02, 9.0000e-02,\n",
              "        1.1000e-01, 1.3000e-01, 1.4000e-01, 1.6000e-01, 1.8000e-01,\n",
              "        2.0000e-01, 2.1000e-01, 2.2000e-01, 2.3000e-01, 2.4000e-01,\n",
              "        2.5000e-01, 2.6000e-01, 2.7000e-01, 2.8000e-01, 2.9000e-01,\n",
              "        3.1000e-01, 3.2000e-01, 3.4000e-01, 3.6000e-01, 3.7000e-01,\n",
              "        3.8000e-01, 4.1000e-01, 4.2000e-01, 4.4000e-01, 4.5000e-01,\n",
              "        4.7000e-01, 4.9000e-01, 5.0000e-01, 5.1000e-01, 5.4000e-01,\n",
              "        5.6000e-01, 5.8000e-01, 5.9000e-01, 6.1000e-01, 6.3000e-01,\n",
              "        6.5000e-01, 6.6000e-01, 6.7000e-01, 6.8000e-01, 6.9000e-01,\n",
              "        7.0000e-01, 7.1000e-01, 7.4000e-01, 7.5000e-01, 7.7000e-01,\n",
              "        7.8000e-01, 8.0000e-01, 8.1000e-01, 8.3000e-01, 8.4000e-01,\n",
              "        8.5000e-01, 8.6000e-01, 8.8000e-01, 9.3000e-01, 9.4000e-01,\n",
              "        9.5000e-01, 9.6000e-01, 9.7000e-01, 9.9000e-01, 1.0100e+00,\n",
              "        1.0200e+00, 1.0300e+00, 1.0500e+00, 1.0600e+00, 1.0700e+00,\n",
              "        1.0800e+00, 1.0900e+00, 1.1000e+00, 1.1200e+00, 1.1300e+00,\n",
              "        1.1600e+00, 1.1700e+00, 1.1800e+00, 1.1900e+00, 1.2000e+00,\n",
              "        1.2100e+00, 1.2200e+00, 1.2300e+00, 1.2400e+00, 1.2500e+00,\n",
              "        1.2600e+00, 1.2700e+00, 1.2900e+00, 1.3000e+00, 1.3100e+00,\n",
              "        1.3200e+00, 1.3300e+00, 1.3400e+00, 1.3700e+00, 1.3900e+00,\n",
              "        1.4300e+00, 1.4700e+00, 1.4800e+00, 1.5100e+00, 1.5300e+00,\n",
              "        1.5500e+00, 1.5700e+00, 1.5900e+00, 1.6000e+00, 1.6100e+00,\n",
              "        1.6300e+00, 1.6400e+00, 1.6500e+00, 1.6600e+00, 1.6900e+00,\n",
              "        1.7000e+00, 1.7100e+00, 1.7300e+00, 1.7400e+00, 1.7500e+00,\n",
              "        1.7600e+00, 1.8000e+00, 1.8200e+00, 1.8400e+00, 1.8600e+00,\n",
              "        1.8800e+00, 1.9000e+00, 1.9400e+00, 1.9500e+00, 1.9600e+00,\n",
              "        1.9700e+00, 2.0000e+00, 2.0100e+00, 2.0200e+00, 2.0300e+00,\n",
              "        2.0600e+00, 2.1300e+00, 2.1500e+00, 2.1600e+00, 2.1700e+00,\n",
              "        2.1900e+00, 2.2000e+00, 2.2100e+00, 2.2200e+00, 2.2300e+00,\n",
              "        2.2400e+00, 2.2500e+00, 2.3400e+00, 2.3500e+00, 2.3600e+00,\n",
              "        2.3800e+00, 2.4200e+00, 2.4500e+00, 2.4600e+00, 2.4700e+00,\n",
              "        2.5100e+00, 2.5200e+00, 2.5600e+00, 2.5700e+00, 2.6000e+00,\n",
              "        2.6200e+00, 2.6400e+00, 2.7300e+00, 2.7400e+00, 2.7500e+00,\n",
              "        2.7600e+00, 2.8000e+00, 2.8100e+00, 2.8700e+00, 2.8800e+00,\n",
              "        2.8900e+00, 2.9100e+00, 2.9200e+00, 2.9500e+00, 2.9600e+00,\n",
              "        3.0100e+00, 3.0200e+00, 3.0500e+00, 3.0800e+00, 3.0900e+00,\n",
              "        3.1000e+00, 3.1400e+00, 3.1500e+00, 3.2100e+00, 3.2300e+00,\n",
              "        3.2500e+00, 3.2800e+00, 3.2900e+00, 3.3200e+00, 3.3300e+00,\n",
              "        3.3500e+00, 3.3800e+00, 3.4100e+00, 3.4500e+00, 3.4600e+00,\n",
              "        3.5200e+00, 3.5500e+00, 3.6000e+00, 3.6100e+00, 3.6800e+00,\n",
              "        3.7300e+00, 3.7400e+00, 3.7500e+00, 3.7600e+00, 3.7700e+00,\n",
              "        3.8000e+00, 3.8500e+00, 3.8700e+00, 3.9200e+00, 3.9400e+00,\n",
              "        4.0000e+00, 4.0200e+00, 4.0400e+00, 4.0500e+00, 4.1300e+00,\n",
              "        4.1800e+00, 4.2000e+00, 4.2500e+00, 4.2800e+00, 4.3000e+00,\n",
              "        4.3100e+00, 4.3800e+00, 4.3900e+00, 4.4000e+00, 4.4300e+00,\n",
              "        4.5000e+00, 4.5400e+00, 4.5500e+00, 4.5800e+00, 4.6000e+00,\n",
              "        4.6300e+00, 4.6400e+00, 4.6500e+00, 4.6700e+00, 4.7200e+00,\n",
              "        4.7400e+00, 4.8000e+00, 4.8800e+00, 4.9100e+00, 4.9200e+00,\n",
              "        4.9300e+00, 4.9400e+00, 4.9900e+00, 5.0000e+00, 5.0400e+00,\n",
              "        5.0600e+00, 5.1200e+00, 5.1300e+00, 5.1400e+00, 5.2000e+00,\n",
              "        5.2500e+00, 5.2600e+00, 5.3400e+00, 5.3800e+00, 5.4800e+00,\n",
              "        5.5000e+00, 5.5300e+00, 5.5500e+00, 5.6000e+00, 5.6300e+00,\n",
              "        5.7500e+00, 5.7900e+00, 5.8500e+00, 5.8800e+00, 5.9100e+00,\n",
              "        5.9300e+00, 5.9400e+00, 5.9500e+00, 5.9800e+00, 6.0000e+00,\n",
              "        6.0100e+00, 6.1300e+00, 6.1700e+00, 6.2000e+00, 6.2400e+00,\n",
              "        6.2500e+00, 6.3000e+00, 6.3200e+00, 6.3800e+00, 6.3900e+00,\n",
              "        6.4200e+00, 6.4700e+00, 6.5000e+00, 6.5100e+00, 6.5700e+00,\n",
              "        6.6300e+00, 6.6500e+00, 6.6600e+00, 6.6700e+00, 6.7300e+00,\n",
              "        6.7500e+00, 6.8200e+00, 6.8400e+00, 6.8500e+00, 6.8800e+00,\n",
              "        6.9000e+00, 6.9400e+00, 6.9600e+00, 6.9900e+00, 7.0000e+00,\n",
              "        7.0200e+00, 7.0500e+00, 7.1300e+00, 7.1600e+00, 7.2100e+00,\n",
              "        7.2500e+00, 7.3500e+00, 7.3600e+00, 7.3800e+00, 7.4700e+00,\n",
              "        7.5000e+00, 7.6400e+00, 7.6700e+00, 7.6900e+00, 7.7000e+00,\n",
              "        7.7600e+00, 7.8000e+00, 7.8700e+00, 7.8900e+00, 7.9100e+00,\n",
              "        7.9500e+00, 7.9600e+00, 8.0000e+00, 8.0300e+00, 8.0500e+00,\n",
              "        8.0600e+00, 8.1000e+00, 8.1300e+00, 8.2100e+00, 8.2200e+00,\n",
              "        8.2500e+00, 8.3600e+00, 8.3800e+00, 8.4000e+00, 8.4900e+00,\n",
              "        8.5000e+00, 8.5700e+00, 8.6300e+00, 8.6800e+00, 8.7000e+00,\n",
              "        8.7100e+00, 8.7500e+00, 8.7700e+00, 8.7800e+00, 8.8100e+00,\n",
              "        8.8500e+00, 8.8800e+00, 8.9000e+00, 8.9600e+00, 8.9900e+00,\n",
              "        9.0000e+00, 9.1000e+00, 9.1300e+00, 9.1900e+00, 9.2000e+00,\n",
              "        9.2500e+00, 9.2600e+00, 9.3000e+00, 9.3800e+00, 9.4500e+00,\n",
              "        9.5700e+00, 9.5900e+00, 9.7500e+00, 9.8700e+00, 9.9700e+00,\n",
              "        1.0000e+01, 1.0050e+01, 1.0130e+01, 1.0150e+01, 1.0180e+01,\n",
              "        1.0220e+01, 1.0250e+01, 1.0320e+01, 1.0330e+01, 1.0380e+01,\n",
              "        1.0500e+01, 1.0630e+01, 1.0640e+01, 1.0690e+01, 1.0830e+01,\n",
              "        1.0850e+01, 1.0890e+01, 1.1000e+01, 1.1020e+01, 1.1060e+01,\n",
              "        1.1110e+01, 1.1130e+01, 1.1200e+01, 1.1210e+01, 1.1250e+01,\n",
              "        1.1340e+01, 1.1380e+01, 1.1500e+01, 1.1540e+01, 1.1550e+01,\n",
              "        1.1630e+01, 1.1700e+01, 1.1720e+01, 1.1750e+01, 1.1780e+01,\n",
              "        1.1860e+01, 1.1880e+01, 1.1900e+01, 1.2000e+01, 1.2070e+01,\n",
              "        1.2090e+01, 1.2130e+01, 1.2140e+01, 1.2250e+01, 1.2300e+01,\n",
              "        1.2380e+01, 1.2390e+01, 1.2400e+01, 1.2450e+01, 1.2500e+01,\n",
              "        1.2540e+01, 1.2560e+01, 1.2600e+01, 1.2630e+01, 1.2750e+01,\n",
              "        1.2940e+01, 1.2950e+01, 1.2960e+01, 1.3000e+01, 1.3130e+01,\n",
              "        1.3160e+01, 1.3200e+01, 1.3210e+01, 1.3250e+01, 1.3310e+01,\n",
              "        1.3380e+01, 1.3420e+01, 1.3490e+01, 1.3500e+01, 1.3570e+01,\n",
              "        1.3630e+01, 1.3650e+01, 1.3880e+01, 1.3920e+01, 1.3950e+01,\n",
              "        1.4000e+01, 1.4100e+01, 1.4130e+01, 1.4180e+01, 1.4250e+01,\n",
              "        1.4380e+01, 1.4440e+01, 1.4460e+01, 1.4500e+01, 1.4530e+01,\n",
              "        1.4550e+01, 1.4630e+01, 1.4700e+01, 1.4750e+01, 1.4790e+01,\n",
              "        1.4850e+01, 1.4880e+01, 1.5000e+01, 1.5160e+01, 1.5190e+01,\n",
              "        1.5280e+01, 1.5380e+01, 1.5400e+01, 1.5440e+01, 1.5500e+01,\n",
              "        1.5560e+01, 1.5570e+01, 1.5600e+01, 1.5750e+01, 1.5880e+01,\n",
              "        1.5900e+01, 1.5930e+01, 1.5960e+01, 1.6000e+01, 1.6050e+01,\n",
              "        1.6090e+01, 1.6250e+01, 1.6270e+01, 1.6350e+01, 1.6410e+01,\n",
              "        1.6450e+01, 1.6500e+01, 1.6570e+01, 1.6600e+01, 1.6610e+01,\n",
              "        1.6690e+01, 1.6750e+01, 1.6800e+01, 1.6900e+01, 1.6950e+01,\n",
              "        1.7130e+01, 1.7150e+01, 1.7230e+01, 1.7250e+01, 1.7290e+01,\n",
              "        1.7380e+01, 1.7390e+01, 1.7500e+01, 1.7550e+01, 1.7630e+01,\n",
              "        1.7710e+01, 1.7750e+01, 1.7820e+01, 1.7850e+01, 1.8000e+01,\n",
              "        1.8040e+01, 1.8130e+01, 1.8200e+01, 1.8240e+01, 1.8250e+01,\n",
              "        1.8380e+01, 1.8600e+01, 1.8620e+01, 1.8630e+01, 1.8730e+01,\n",
              "        1.8800e+01, 1.8850e+01, 1.8900e+01, 1.9000e+01, 1.9010e+01,\n",
              "        1.9050e+01, 1.9070e+01, 1.9130e+01, 1.9140e+01, 1.9250e+01,\n",
              "        1.9340e+01, 1.9350e+01, 1.9500e+01, 1.9600e+01, 1.9630e+01,\n",
              "        1.9990e+01, 2.0000e+01, 2.0030e+01, 2.0060e+01, 2.0130e+01,\n",
              "        2.0150e+01, 2.0250e+01, 2.0280e+01, 2.0300e+01, 2.0380e+01,\n",
              "        2.0440e+01, 2.0480e+01, 2.0500e+01, 2.0640e+01, 2.0650e+01,\n",
              "        2.0700e+01, 2.0750e+01, 2.0800e+01, 2.0820e+01, 2.0850e+01,\n",
              "        2.0880e+01, 2.0960e+01, 2.1000e+01, 2.1130e+01, 2.1350e+01,\n",
              "        2.1450e+01, 2.1500e+01, 2.1600e+01, 2.1630e+01, 2.1700e+01,\n",
              "        2.1750e+01, 2.1770e+01, 2.1850e+01, 2.2000e+01, 2.2040e+01,\n",
              "        2.2050e+01, 2.2090e+01, 2.2100e+01, 2.2130e+01, 2.2230e+01,\n",
              "        2.2250e+01, 2.2310e+01, 2.2360e+01, 2.2730e+01, 2.2750e+01,\n",
              "        2.2910e+01, 2.3060e+01, 2.3180e+01, 2.3250e+01, 2.3400e+01,\n",
              "        2.3450e+01, 2.3500e+01, 2.3600e+01, 2.3630e+01, 2.3730e+01,\n",
              "        2.3750e+01, 2.3760e+01, 2.3810e+01, 2.4000e+01, 2.4150e+01,\n",
              "        2.4170e+01, 2.4300e+01, 2.4380e+01, 2.4400e+01, 2.4440e+01,\n",
              "        2.4450e+01, 2.4750e+01, 2.4800e+01, 2.4850e+01, 2.4860e+01,\n",
              "        2.5020e+01, 2.5080e+01, 2.5130e+01, 2.5200e+01, 2.5250e+01,\n",
              "        2.5480e+01, 2.5500e+01, 2.5510e+01, 2.5520e+01, 2.5550e+01,\n",
              "        2.5620e+01, 2.5680e+01, 2.5840e+01, 2.5880e+01, 2.6000e+01,\n",
              "        2.6400e+01, 2.6500e+01, 2.6550e+01, 2.6600e+01, 2.6750e+01,\n",
              "        2.6980e+01, 2.7000e+01, 2.7190e+01, 2.7250e+01, 2.7300e+01,\n",
              "        2.7360e+01, 2.7460e+01, 2.7500e+01, 2.7750e+01, 2.8000e+01,\n",
              "        2.8130e+01, 2.8180e+01, 2.8250e+01, 2.8280e+01, 2.8350e+01,\n",
              "        2.8500e+01, 2.8600e+01, 2.8690e+01, 2.8800e+01, 2.8930e+01,\n",
              "        2.8950e+01, 2.9050e+01, 2.9130e+01, 2.9380e+01, 2.9400e+01,\n",
              "        2.9440e+01, 2.9500e+01, 2.9570e+01, 2.9700e+01, 2.9750e+01,\n",
              "        3.0000e+01, 3.0160e+01, 3.0250e+01, 3.0450e+01, 3.0550e+01,\n",
              "        3.0710e+01, 3.0750e+01, 3.1000e+01, 3.1050e+01, 3.1200e+01,\n",
              "        3.1250e+01, 3.1380e+01, 3.1530e+01, 3.1690e+01, 3.1750e+01,\n",
              "        3.1880e+01, 3.2000e+01, 3.2160e+01, 3.2180e+01, 3.2200e+01,\n",
              "        3.2300e+01, 3.2500e+01, 3.2660e+01, 3.2680e+01, 3.2830e+01,\n",
              "        3.3130e+01, 3.3600e+01, 3.3750e+01, 3.3800e+01, 3.3950e+01,\n",
              "        3.4130e+01, 3.4250e+01, 3.4500e+01, 3.4630e+01, 3.4750e+01,\n",
              "        3.5000e+01, 3.5340e+01, 3.5590e+01, 3.5630e+01, 3.5640e+01,\n",
              "        3.6000e+01, 3.6100e+01, 3.6400e+01, 3.6560e+01, 3.6730e+01,\n",
              "        3.6860e+01, 3.7000e+01, 3.7130e+01, 3.7200e+01, 3.7250e+01,\n",
              "        3.7380e+01, 3.7700e+01, 3.7800e+01, 3.8000e+01, 3.8020e+01,\n",
              "        3.8150e+01, 3.8250e+01, 3.8350e+01, 3.8500e+01, 3.8510e+01,\n",
              "        3.8920e+01, 3.9000e+01, 3.9250e+01, 3.9330e+01, 4.0000e+01,\n",
              "        4.0130e+01, 4.0250e+01, 4.0600e+01, 4.0950e+01, 4.1130e+01,\n",
              "        4.1270e+01, 4.1380e+01, 4.1420e+01, 4.1440e+01, 4.1580e+01,\n",
              "        4.2180e+01, 4.2350e+01, 4.2900e+01, 4.3060e+01, 4.3550e+01,\n",
              "        4.3750e+01, 4.4500e+01, 4.4690e+01, 4.4840e+01, 4.5500e+01,\n",
              "        4.5600e+01, 4.6250e+01, 4.6400e+01, 4.6800e+01, 4.6960e+01,\n",
              "        4.7290e+01, 4.7520e+01, 4.7880e+01, 4.8000e+01, 4.8300e+01,\n",
              "        4.8420e+01, 4.8590e+01, 4.8630e+01, 4.9400e+01, 4.9500e+01,\n",
              "        4.9600e+01, 4.9650e+01, 4.9730e+01, 5.0250e+01, 5.0490e+01,\n",
              "        5.0500e+01, 5.0580e+01, 5.0700e+01, 5.1130e+01, 5.1450e+01,\n",
              "        5.1750e+01, 5.1980e+01, 5.2150e+01, 5.2330e+01, 5.2650e+01,\n",
              "        5.2850e+01, 5.3460e+01, 5.3490e+01, 5.4000e+01, 5.4190e+01,\n",
              "        5.4500e+01, 5.4600e+01, 5.5090e+01, 5.5250e+01, 5.5480e+01,\n",
              "        5.5860e+01, 5.6250e+01, 5.7040e+01, 5.7130e+01, 5.7400e+01,\n",
              "        5.7600e+01, 5.8350e+01, 5.8450e+01, 5.9000e+01, 5.9150e+01,\n",
              "        5.9400e+01, 5.9500e+01, 5.9880e+01, 6.0000e+01, 6.0040e+01,\n",
              "        6.0380e+01, 6.0500e+01, 6.1910e+01, 6.2400e+01, 6.2650e+01,\n",
              "        6.3210e+01, 6.3350e+01, 6.3380e+01, 6.3700e+01, 6.3750e+01,\n",
              "        6.4050e+01, 6.4350e+01, 6.4380e+01, 6.4550e+01, 6.4800e+01,\n",
              "        6.4980e+01, 6.5000e+01, 6.5160e+01, 6.5330e+01, 6.5340e+01,\n",
              "        6.6250e+01, 6.7750e+01, 6.8080e+01, 6.8900e+01, 6.9160e+01,\n",
              "        6.9250e+01, 6.9300e+01, 6.9710e+01, 7.0200e+01, 7.0250e+01,\n",
              "        7.1250e+01, 7.1280e+01, 7.1830e+01, 7.1850e+01, 7.2000e+01,\n",
              "        7.2130e+01, 7.2250e+01, 7.2800e+01, 7.2940e+01, 7.3250e+01,\n",
              "        7.3450e+01, 7.3600e+01, 7.3690e+01, 7.3850e+01, 7.4260e+01,\n",
              "        7.5250e+01, 7.6250e+01, 7.7130e+01, 7.7220e+01, 7.8000e+01,\n",
              "        7.8280e+01, 7.9750e+01, 8.0000e+01, 8.0440e+01, 8.0500e+01,\n",
              "        8.1130e+01, 8.1200e+01, 8.2360e+01, 8.2600e+01, 8.3160e+01,\n",
              "        8.3250e+01, 8.5130e+01, 8.5200e+01, 8.9100e+01, 8.9250e+01,\n",
              "        8.9380e+01, 8.9960e+01, 9.0090e+01, 9.3600e+01, 9.5040e+01,\n",
              "        9.5500e+01, 9.6000e+01, 9.7200e+01, 9.7250e+01, 9.7340e+01,\n",
              "        9.9900e+01, 1.0098e+02, 1.0240e+02, 1.0250e+02, 1.0255e+02,\n",
              "        1.0300e+02, 1.0602e+02, 1.0692e+02, 1.0725e+02, 1.0800e+02,\n",
              "        1.0822e+02, 1.0920e+02, 1.1050e+02, 1.1231e+02, 1.1261e+02,\n",
              "        1.1286e+02, 1.1295e+02, 1.1425e+02, 1.1520e+02, 1.1800e+02,\n",
              "        1.1880e+02, 1.2012e+02, 1.2050e+02, 1.2288e+02, 1.2474e+02,\n",
              "        1.2675e+02, 1.2775e+02, 1.2875e+02, 1.3068e+02, 1.3299e+02,\n",
              "        1.3406e+02, 1.3450e+02, 1.3475e+02, 1.3510e+02, 1.3662e+02,\n",
              "        1.3935e+02, 1.4256e+02, 1.4313e+02, 1.4850e+02, 1.4937e+02,\n",
              "        1.4950e+02, 1.4975e+02, 1.5444e+02, 1.5450e+02, 1.6038e+02,\n",
              "        1.6624e+02, 1.6632e+02, 1.6640e+02, 1.6650e+02, 1.6653e+02,\n",
              "        1.6800e+02, 1.7160e+02, 1.7226e+02, 1.7820e+02, 1.8414e+02,\n",
              "        1.8671e+02, 2.0800e+02, 2.0816e+02, 2.0995e+02, 2.1021e+02,\n",
              "        2.6260e+02, 2.6276e+02]),\n",
              " array(['F', 'M', 'Not Specified'], dtype=object),\n",
              " array([  0,   1,   3,   4,   5,   7,   8,   9,  10,  11,  12,  13,  14,\n",
              "         15,  16,  17,  18,  19,  20,  21,  22,  23,  24,  25,  26,  27,\n",
              "         28,  29,  30,  31,  32,  33,  34,  35,  36,  37,  38,  39,  40,\n",
              "         41,  42,  43,  44,  45,  46,  47,  48,  49,  50,  51,  52,  53,\n",
              "         54,  55,  56,  57,  58,  59,  60,  61,  62,  63,  64,  65,  66,\n",
              "         67,  68,  69,  70,  71,  72,  73,  74,  75,  76,  77,  78,  79,\n",
              "         80,  81,  82,  83,  84,  85,  86,  87,  88, 118]),\n",
              " array([0, 1])]"
            ]
          },
          "metadata": {
            "tags": []
          },
          "execution_count": 21
        }
      ]
    },
    {
      "cell_type": "code",
      "metadata": {
        "id": "q8vrjkcnWHTx",
        "colab": {
          "base_uri": "https://localhost:8080/",
          "height": 195
        },
        "outputId": "cd749584-0cc3-4618-83c3-efd522c721db"
      },
      "source": [
        "\r\n",
        "insurance_data.head()"
      ],
      "execution_count": null,
      "outputs": [
        {
          "output_type": "execute_result",
          "data": {
            "text/html": [
              "<div>\n",
              "<style scoped>\n",
              "    .dataframe tbody tr th:only-of-type {\n",
              "        vertical-align: middle;\n",
              "    }\n",
              "\n",
              "    .dataframe tbody tr th {\n",
              "        vertical-align: top;\n",
              "    }\n",
              "\n",
              "    .dataframe thead th {\n",
              "        text-align: right;\n",
              "    }\n",
              "</style>\n",
              "<table border=\"1\" class=\"dataframe\">\n",
              "  <thead>\n",
              "    <tr style=\"text-align: right;\">\n",
              "      <th></th>\n",
              "      <th>Agency</th>\n",
              "      <th>Product Name</th>\n",
              "      <th>Duration</th>\n",
              "      <th>Net Sales</th>\n",
              "      <th>Commision (in value)</th>\n",
              "      <th>Gender</th>\n",
              "      <th>Age</th>\n",
              "      <th>Claim</th>\n",
              "    </tr>\n",
              "  </thead>\n",
              "  <tbody>\n",
              "    <tr>\n",
              "      <th>0</th>\n",
              "      <td>CWT</td>\n",
              "      <td>Rental Vehicle Excess Insurance</td>\n",
              "      <td>61</td>\n",
              "      <td>19.8</td>\n",
              "      <td>11.88</td>\n",
              "      <td>Not Specified</td>\n",
              "      <td>29</td>\n",
              "      <td>0</td>\n",
              "    </tr>\n",
              "    <tr>\n",
              "      <th>1</th>\n",
              "      <td>EPX</td>\n",
              "      <td>Cancellation Plan</td>\n",
              "      <td>93</td>\n",
              "      <td>63.0</td>\n",
              "      <td>0.00</td>\n",
              "      <td>Not Specified</td>\n",
              "      <td>36</td>\n",
              "      <td>0</td>\n",
              "    </tr>\n",
              "    <tr>\n",
              "      <th>2</th>\n",
              "      <td>EPX</td>\n",
              "      <td>2 way Comprehensive Plan</td>\n",
              "      <td>22</td>\n",
              "      <td>22.0</td>\n",
              "      <td>0.00</td>\n",
              "      <td>Not Specified</td>\n",
              "      <td>25</td>\n",
              "      <td>0</td>\n",
              "    </tr>\n",
              "    <tr>\n",
              "      <th>3</th>\n",
              "      <td>C2B</td>\n",
              "      <td>Silver Plan</td>\n",
              "      <td>14</td>\n",
              "      <td>54.5</td>\n",
              "      <td>13.63</td>\n",
              "      <td>M</td>\n",
              "      <td>24</td>\n",
              "      <td>0</td>\n",
              "    </tr>\n",
              "    <tr>\n",
              "      <th>4</th>\n",
              "      <td>EPX</td>\n",
              "      <td>Cancellation Plan</td>\n",
              "      <td>90</td>\n",
              "      <td>10.0</td>\n",
              "      <td>0.00</td>\n",
              "      <td>Not Specified</td>\n",
              "      <td>23</td>\n",
              "      <td>0</td>\n",
              "    </tr>\n",
              "  </tbody>\n",
              "</table>\n",
              "</div>"
            ],
            "text/plain": [
              "  Agency                     Product Name  Duration  ...         Gender  Age Claim\n",
              "0    CWT  Rental Vehicle Excess Insurance        61  ...  Not Specified   29     0\n",
              "1    EPX                Cancellation Plan        93  ...  Not Specified   36     0\n",
              "2    EPX         2 way Comprehensive Plan        22  ...  Not Specified   25     0\n",
              "3    C2B                      Silver Plan        14  ...              M   24     0\n",
              "4    EPX                Cancellation Plan        90  ...  Not Specified   23     0\n",
              "\n",
              "[5 rows x 8 columns]"
            ]
          },
          "metadata": {
            "tags": []
          },
          "execution_count": 22
        }
      ]
    },
    {
      "cell_type": "code",
      "metadata": {
        "id": "InZN4mypaGDa"
      },
      "source": [
        "insurance_data = pd.get_dummies(insurance_data, columns=['Agency', 'Product Name','Gender'], drop_first=True)"
      ],
      "execution_count": null,
      "outputs": []
    },
    {
      "cell_type": "code",
      "metadata": {
        "colab": {
          "base_uri": "https://localhost:8080/",
          "height": 282
        },
        "id": "Mu_mJ2jIcv8o",
        "outputId": "4fb95cbf-5783-44ed-bb75-c407b8b10780"
      },
      "source": [
        "insurance_data.head()"
      ],
      "execution_count": null,
      "outputs": [
        {
          "output_type": "execute_result",
          "data": {
            "text/html": [
              "<div>\n",
              "<style scoped>\n",
              "    .dataframe tbody tr th:only-of-type {\n",
              "        vertical-align: middle;\n",
              "    }\n",
              "\n",
              "    .dataframe tbody tr th {\n",
              "        vertical-align: top;\n",
              "    }\n",
              "\n",
              "    .dataframe thead th {\n",
              "        text-align: right;\n",
              "    }\n",
              "</style>\n",
              "<table border=\"1\" class=\"dataframe\">\n",
              "  <thead>\n",
              "    <tr style=\"text-align: right;\">\n",
              "      <th></th>\n",
              "      <th>Duration</th>\n",
              "      <th>Net Sales</th>\n",
              "      <th>Commision (in value)</th>\n",
              "      <th>Age</th>\n",
              "      <th>Claim</th>\n",
              "      <th>Agency_ART</th>\n",
              "      <th>Agency_C2B</th>\n",
              "      <th>Agency_CBH</th>\n",
              "      <th>Agency_CCR</th>\n",
              "      <th>Agency_CSR</th>\n",
              "      <th>Agency_CWT</th>\n",
              "      <th>Agency_EPX</th>\n",
              "      <th>Agency_JWT</th>\n",
              "      <th>Agency_JZI</th>\n",
              "      <th>Agency_KML</th>\n",
              "      <th>Agency_LWC</th>\n",
              "      <th>Agency_RAB</th>\n",
              "      <th>Agency_SSI</th>\n",
              "      <th>Agency_TST</th>\n",
              "      <th>Agency_TTW</th>\n",
              "      <th>Product Name_2 way Comprehensive Plan</th>\n",
              "      <th>Product Name_24 Protect</th>\n",
              "      <th>Product Name_Annual Gold Plan</th>\n",
              "      <th>Product Name_Annual Silver Plan</th>\n",
              "      <th>Product Name_Annual Travel Protect Gold</th>\n",
              "      <th>Product Name_Annual Travel Protect Platinum</th>\n",
              "      <th>Product Name_Annual Travel Protect Silver</th>\n",
              "      <th>Product Name_Basic Plan</th>\n",
              "      <th>Product Name_Bronze Plan</th>\n",
              "      <th>Product Name_Cancellation Plan</th>\n",
              "      <th>Product Name_Child Comprehensive Plan</th>\n",
              "      <th>Product Name_Comprehensive Plan</th>\n",
              "      <th>Product Name_Gold Plan</th>\n",
              "      <th>Product Name_Individual Comprehensive Plan</th>\n",
              "      <th>Product Name_Premier Plan</th>\n",
              "      <th>Product Name_Rental Vehicle Excess Insurance</th>\n",
              "      <th>Product Name_Silver Plan</th>\n",
              "      <th>Product Name_Single Trip Travel Protect Gold</th>\n",
              "      <th>Product Name_Single Trip Travel Protect Platinum</th>\n",
              "      <th>Product Name_Single Trip Travel Protect Silver</th>\n",
              "      <th>Product Name_Spouse or Parents Comprehensive Plan</th>\n",
              "      <th>Product Name_Ticket Protector</th>\n",
              "      <th>Product Name_Travel Cruise Protect</th>\n",
              "      <th>Product Name_Travel Cruise Protect Family</th>\n",
              "      <th>Product Name_Value Plan</th>\n",
              "      <th>Gender_M</th>\n",
              "      <th>Gender_Not Specified</th>\n",
              "    </tr>\n",
              "  </thead>\n",
              "  <tbody>\n",
              "    <tr>\n",
              "      <th>0</th>\n",
              "      <td>61</td>\n",
              "      <td>19.8</td>\n",
              "      <td>11.88</td>\n",
              "      <td>29</td>\n",
              "      <td>0</td>\n",
              "      <td>0</td>\n",
              "      <td>0</td>\n",
              "      <td>0</td>\n",
              "      <td>0</td>\n",
              "      <td>0</td>\n",
              "      <td>1</td>\n",
              "      <td>0</td>\n",
              "      <td>0</td>\n",
              "      <td>0</td>\n",
              "      <td>0</td>\n",
              "      <td>0</td>\n",
              "      <td>0</td>\n",
              "      <td>0</td>\n",
              "      <td>0</td>\n",
              "      <td>0</td>\n",
              "      <td>0</td>\n",
              "      <td>0</td>\n",
              "      <td>0</td>\n",
              "      <td>0</td>\n",
              "      <td>0</td>\n",
              "      <td>0</td>\n",
              "      <td>0</td>\n",
              "      <td>0</td>\n",
              "      <td>0</td>\n",
              "      <td>0</td>\n",
              "      <td>0</td>\n",
              "      <td>0</td>\n",
              "      <td>0</td>\n",
              "      <td>0</td>\n",
              "      <td>0</td>\n",
              "      <td>1</td>\n",
              "      <td>0</td>\n",
              "      <td>0</td>\n",
              "      <td>0</td>\n",
              "      <td>0</td>\n",
              "      <td>0</td>\n",
              "      <td>0</td>\n",
              "      <td>0</td>\n",
              "      <td>0</td>\n",
              "      <td>0</td>\n",
              "      <td>0</td>\n",
              "      <td>1</td>\n",
              "    </tr>\n",
              "    <tr>\n",
              "      <th>1</th>\n",
              "      <td>93</td>\n",
              "      <td>63.0</td>\n",
              "      <td>0.00</td>\n",
              "      <td>36</td>\n",
              "      <td>0</td>\n",
              "      <td>0</td>\n",
              "      <td>0</td>\n",
              "      <td>0</td>\n",
              "      <td>0</td>\n",
              "      <td>0</td>\n",
              "      <td>0</td>\n",
              "      <td>1</td>\n",
              "      <td>0</td>\n",
              "      <td>0</td>\n",
              "      <td>0</td>\n",
              "      <td>0</td>\n",
              "      <td>0</td>\n",
              "      <td>0</td>\n",
              "      <td>0</td>\n",
              "      <td>0</td>\n",
              "      <td>0</td>\n",
              "      <td>0</td>\n",
              "      <td>0</td>\n",
              "      <td>0</td>\n",
              "      <td>0</td>\n",
              "      <td>0</td>\n",
              "      <td>0</td>\n",
              "      <td>0</td>\n",
              "      <td>0</td>\n",
              "      <td>1</td>\n",
              "      <td>0</td>\n",
              "      <td>0</td>\n",
              "      <td>0</td>\n",
              "      <td>0</td>\n",
              "      <td>0</td>\n",
              "      <td>0</td>\n",
              "      <td>0</td>\n",
              "      <td>0</td>\n",
              "      <td>0</td>\n",
              "      <td>0</td>\n",
              "      <td>0</td>\n",
              "      <td>0</td>\n",
              "      <td>0</td>\n",
              "      <td>0</td>\n",
              "      <td>0</td>\n",
              "      <td>0</td>\n",
              "      <td>1</td>\n",
              "    </tr>\n",
              "    <tr>\n",
              "      <th>2</th>\n",
              "      <td>22</td>\n",
              "      <td>22.0</td>\n",
              "      <td>0.00</td>\n",
              "      <td>25</td>\n",
              "      <td>0</td>\n",
              "      <td>0</td>\n",
              "      <td>0</td>\n",
              "      <td>0</td>\n",
              "      <td>0</td>\n",
              "      <td>0</td>\n",
              "      <td>0</td>\n",
              "      <td>1</td>\n",
              "      <td>0</td>\n",
              "      <td>0</td>\n",
              "      <td>0</td>\n",
              "      <td>0</td>\n",
              "      <td>0</td>\n",
              "      <td>0</td>\n",
              "      <td>0</td>\n",
              "      <td>0</td>\n",
              "      <td>1</td>\n",
              "      <td>0</td>\n",
              "      <td>0</td>\n",
              "      <td>0</td>\n",
              "      <td>0</td>\n",
              "      <td>0</td>\n",
              "      <td>0</td>\n",
              "      <td>0</td>\n",
              "      <td>0</td>\n",
              "      <td>0</td>\n",
              "      <td>0</td>\n",
              "      <td>0</td>\n",
              "      <td>0</td>\n",
              "      <td>0</td>\n",
              "      <td>0</td>\n",
              "      <td>0</td>\n",
              "      <td>0</td>\n",
              "      <td>0</td>\n",
              "      <td>0</td>\n",
              "      <td>0</td>\n",
              "      <td>0</td>\n",
              "      <td>0</td>\n",
              "      <td>0</td>\n",
              "      <td>0</td>\n",
              "      <td>0</td>\n",
              "      <td>0</td>\n",
              "      <td>1</td>\n",
              "    </tr>\n",
              "    <tr>\n",
              "      <th>3</th>\n",
              "      <td>14</td>\n",
              "      <td>54.5</td>\n",
              "      <td>13.63</td>\n",
              "      <td>24</td>\n",
              "      <td>0</td>\n",
              "      <td>0</td>\n",
              "      <td>1</td>\n",
              "      <td>0</td>\n",
              "      <td>0</td>\n",
              "      <td>0</td>\n",
              "      <td>0</td>\n",
              "      <td>0</td>\n",
              "      <td>0</td>\n",
              "      <td>0</td>\n",
              "      <td>0</td>\n",
              "      <td>0</td>\n",
              "      <td>0</td>\n",
              "      <td>0</td>\n",
              "      <td>0</td>\n",
              "      <td>0</td>\n",
              "      <td>0</td>\n",
              "      <td>0</td>\n",
              "      <td>0</td>\n",
              "      <td>0</td>\n",
              "      <td>0</td>\n",
              "      <td>0</td>\n",
              "      <td>0</td>\n",
              "      <td>0</td>\n",
              "      <td>0</td>\n",
              "      <td>0</td>\n",
              "      <td>0</td>\n",
              "      <td>0</td>\n",
              "      <td>0</td>\n",
              "      <td>0</td>\n",
              "      <td>0</td>\n",
              "      <td>0</td>\n",
              "      <td>1</td>\n",
              "      <td>0</td>\n",
              "      <td>0</td>\n",
              "      <td>0</td>\n",
              "      <td>0</td>\n",
              "      <td>0</td>\n",
              "      <td>0</td>\n",
              "      <td>0</td>\n",
              "      <td>0</td>\n",
              "      <td>1</td>\n",
              "      <td>0</td>\n",
              "    </tr>\n",
              "    <tr>\n",
              "      <th>4</th>\n",
              "      <td>90</td>\n",
              "      <td>10.0</td>\n",
              "      <td>0.00</td>\n",
              "      <td>23</td>\n",
              "      <td>0</td>\n",
              "      <td>0</td>\n",
              "      <td>0</td>\n",
              "      <td>0</td>\n",
              "      <td>0</td>\n",
              "      <td>0</td>\n",
              "      <td>0</td>\n",
              "      <td>1</td>\n",
              "      <td>0</td>\n",
              "      <td>0</td>\n",
              "      <td>0</td>\n",
              "      <td>0</td>\n",
              "      <td>0</td>\n",
              "      <td>0</td>\n",
              "      <td>0</td>\n",
              "      <td>0</td>\n",
              "      <td>0</td>\n",
              "      <td>0</td>\n",
              "      <td>0</td>\n",
              "      <td>0</td>\n",
              "      <td>0</td>\n",
              "      <td>0</td>\n",
              "      <td>0</td>\n",
              "      <td>0</td>\n",
              "      <td>0</td>\n",
              "      <td>1</td>\n",
              "      <td>0</td>\n",
              "      <td>0</td>\n",
              "      <td>0</td>\n",
              "      <td>0</td>\n",
              "      <td>0</td>\n",
              "      <td>0</td>\n",
              "      <td>0</td>\n",
              "      <td>0</td>\n",
              "      <td>0</td>\n",
              "      <td>0</td>\n",
              "      <td>0</td>\n",
              "      <td>0</td>\n",
              "      <td>0</td>\n",
              "      <td>0</td>\n",
              "      <td>0</td>\n",
              "      <td>0</td>\n",
              "      <td>1</td>\n",
              "    </tr>\n",
              "  </tbody>\n",
              "</table>\n",
              "</div>"
            ],
            "text/plain": [
              "   Duration  Net Sales  ...  Gender_M  Gender_Not Specified\n",
              "0        61       19.8  ...         0                     1\n",
              "1        93       63.0  ...         0                     1\n",
              "2        22       22.0  ...         0                     1\n",
              "3        14       54.5  ...         1                     0\n",
              "4        90       10.0  ...         0                     1\n",
              "\n",
              "[5 rows x 47 columns]"
            ]
          },
          "metadata": {
            "tags": []
          },
          "execution_count": 24
        }
      ]
    },
    {
      "cell_type": "code",
      "metadata": {
        "id": "ZpbInMFLeaSC"
      },
      "source": [
        "from sklearn.model_selection import train_test_split"
      ],
      "execution_count": null,
      "outputs": []
    },
    {
      "cell_type": "code",
      "metadata": {
        "colab": {
          "base_uri": "https://localhost:8080/"
        },
        "id": "GGZDCWZFczYv",
        "outputId": "b18ae0ad-3fdd-4b35-f9e8-ab83cb2f252d"
      },
      "source": [
        "X_train, X_test, y_train, y_test = train_test_split(insurance_data.drop(['Claim'], axis=1),\r\n",
        "                                                    insurance_data['Claim'],\r\n",
        "                                                    test_size=0.3,\r\n",
        "                                                    random_state=101)\r\n",
        "\r\n",
        "X_train.shape, X_test.shape"
      ],
      "execution_count": null,
      "outputs": [
        {
          "output_type": "execute_result",
          "data": {
            "text/plain": [
              "((33782, 46), (14478, 46))"
            ]
          },
          "metadata": {
            "tags": []
          },
          "execution_count": 26
        }
      ]
    },
    {
      "cell_type": "code",
      "metadata": {
        "colab": {
          "base_uri": "https://localhost:8080/",
          "height": 223
        },
        "id": "dTM4v-wzeKXy",
        "outputId": "62f68e41-f07f-4254-ea0f-9419a55f4834"
      },
      "source": [
        "insurance_data.groupby('Claim').count()"
      ],
      "execution_count": null,
      "outputs": [
        {
          "output_type": "execute_result",
          "data": {
            "text/html": [
              "<div>\n",
              "<style scoped>\n",
              "    .dataframe tbody tr th:only-of-type {\n",
              "        vertical-align: middle;\n",
              "    }\n",
              "\n",
              "    .dataframe tbody tr th {\n",
              "        vertical-align: top;\n",
              "    }\n",
              "\n",
              "    .dataframe thead th {\n",
              "        text-align: right;\n",
              "    }\n",
              "</style>\n",
              "<table border=\"1\" class=\"dataframe\">\n",
              "  <thead>\n",
              "    <tr style=\"text-align: right;\">\n",
              "      <th></th>\n",
              "      <th>Duration</th>\n",
              "      <th>Net Sales</th>\n",
              "      <th>Commision (in value)</th>\n",
              "      <th>Age</th>\n",
              "      <th>Agency_ART</th>\n",
              "      <th>Agency_C2B</th>\n",
              "      <th>Agency_CBH</th>\n",
              "      <th>Agency_CCR</th>\n",
              "      <th>Agency_CSR</th>\n",
              "      <th>Agency_CWT</th>\n",
              "      <th>Agency_EPX</th>\n",
              "      <th>Agency_JWT</th>\n",
              "      <th>Agency_JZI</th>\n",
              "      <th>Agency_KML</th>\n",
              "      <th>Agency_LWC</th>\n",
              "      <th>Agency_RAB</th>\n",
              "      <th>Agency_SSI</th>\n",
              "      <th>Agency_TST</th>\n",
              "      <th>Agency_TTW</th>\n",
              "      <th>Product Name_2 way Comprehensive Plan</th>\n",
              "      <th>Product Name_24 Protect</th>\n",
              "      <th>Product Name_Annual Gold Plan</th>\n",
              "      <th>Product Name_Annual Silver Plan</th>\n",
              "      <th>Product Name_Annual Travel Protect Gold</th>\n",
              "      <th>Product Name_Annual Travel Protect Platinum</th>\n",
              "      <th>Product Name_Annual Travel Protect Silver</th>\n",
              "      <th>Product Name_Basic Plan</th>\n",
              "      <th>Product Name_Bronze Plan</th>\n",
              "      <th>Product Name_Cancellation Plan</th>\n",
              "      <th>Product Name_Child Comprehensive Plan</th>\n",
              "      <th>Product Name_Comprehensive Plan</th>\n",
              "      <th>Product Name_Gold Plan</th>\n",
              "      <th>Product Name_Individual Comprehensive Plan</th>\n",
              "      <th>Product Name_Premier Plan</th>\n",
              "      <th>Product Name_Rental Vehicle Excess Insurance</th>\n",
              "      <th>Product Name_Silver Plan</th>\n",
              "      <th>Product Name_Single Trip Travel Protect Gold</th>\n",
              "      <th>Product Name_Single Trip Travel Protect Platinum</th>\n",
              "      <th>Product Name_Single Trip Travel Protect Silver</th>\n",
              "      <th>Product Name_Spouse or Parents Comprehensive Plan</th>\n",
              "      <th>Product Name_Ticket Protector</th>\n",
              "      <th>Product Name_Travel Cruise Protect</th>\n",
              "      <th>Product Name_Travel Cruise Protect Family</th>\n",
              "      <th>Product Name_Value Plan</th>\n",
              "      <th>Gender_M</th>\n",
              "      <th>Gender_Not Specified</th>\n",
              "    </tr>\n",
              "    <tr>\n",
              "      <th>Claim</th>\n",
              "      <th></th>\n",
              "      <th></th>\n",
              "      <th></th>\n",
              "      <th></th>\n",
              "      <th></th>\n",
              "      <th></th>\n",
              "      <th></th>\n",
              "      <th></th>\n",
              "      <th></th>\n",
              "      <th></th>\n",
              "      <th></th>\n",
              "      <th></th>\n",
              "      <th></th>\n",
              "      <th></th>\n",
              "      <th></th>\n",
              "      <th></th>\n",
              "      <th></th>\n",
              "      <th></th>\n",
              "      <th></th>\n",
              "      <th></th>\n",
              "      <th></th>\n",
              "      <th></th>\n",
              "      <th></th>\n",
              "      <th></th>\n",
              "      <th></th>\n",
              "      <th></th>\n",
              "      <th></th>\n",
              "      <th></th>\n",
              "      <th></th>\n",
              "      <th></th>\n",
              "      <th></th>\n",
              "      <th></th>\n",
              "      <th></th>\n",
              "      <th></th>\n",
              "      <th></th>\n",
              "      <th></th>\n",
              "      <th></th>\n",
              "      <th></th>\n",
              "      <th></th>\n",
              "      <th></th>\n",
              "      <th></th>\n",
              "      <th></th>\n",
              "      <th></th>\n",
              "      <th></th>\n",
              "      <th></th>\n",
              "      <th></th>\n",
              "    </tr>\n",
              "  </thead>\n",
              "  <tbody>\n",
              "    <tr>\n",
              "      <th>0</th>\n",
              "      <td>47552</td>\n",
              "      <td>47552</td>\n",
              "      <td>47552</td>\n",
              "      <td>47552</td>\n",
              "      <td>47552</td>\n",
              "      <td>47552</td>\n",
              "      <td>47552</td>\n",
              "      <td>47552</td>\n",
              "      <td>47552</td>\n",
              "      <td>47552</td>\n",
              "      <td>47552</td>\n",
              "      <td>47552</td>\n",
              "      <td>47552</td>\n",
              "      <td>47552</td>\n",
              "      <td>47552</td>\n",
              "      <td>47552</td>\n",
              "      <td>47552</td>\n",
              "      <td>47552</td>\n",
              "      <td>47552</td>\n",
              "      <td>47552</td>\n",
              "      <td>47552</td>\n",
              "      <td>47552</td>\n",
              "      <td>47552</td>\n",
              "      <td>47552</td>\n",
              "      <td>47552</td>\n",
              "      <td>47552</td>\n",
              "      <td>47552</td>\n",
              "      <td>47552</td>\n",
              "      <td>47552</td>\n",
              "      <td>47552</td>\n",
              "      <td>47552</td>\n",
              "      <td>47552</td>\n",
              "      <td>47552</td>\n",
              "      <td>47552</td>\n",
              "      <td>47552</td>\n",
              "      <td>47552</td>\n",
              "      <td>47552</td>\n",
              "      <td>47552</td>\n",
              "      <td>47552</td>\n",
              "      <td>47552</td>\n",
              "      <td>47552</td>\n",
              "      <td>47552</td>\n",
              "      <td>47552</td>\n",
              "      <td>47552</td>\n",
              "      <td>47552</td>\n",
              "      <td>47552</td>\n",
              "    </tr>\n",
              "    <tr>\n",
              "      <th>1</th>\n",
              "      <td>708</td>\n",
              "      <td>708</td>\n",
              "      <td>708</td>\n",
              "      <td>708</td>\n",
              "      <td>708</td>\n",
              "      <td>708</td>\n",
              "      <td>708</td>\n",
              "      <td>708</td>\n",
              "      <td>708</td>\n",
              "      <td>708</td>\n",
              "      <td>708</td>\n",
              "      <td>708</td>\n",
              "      <td>708</td>\n",
              "      <td>708</td>\n",
              "      <td>708</td>\n",
              "      <td>708</td>\n",
              "      <td>708</td>\n",
              "      <td>708</td>\n",
              "      <td>708</td>\n",
              "      <td>708</td>\n",
              "      <td>708</td>\n",
              "      <td>708</td>\n",
              "      <td>708</td>\n",
              "      <td>708</td>\n",
              "      <td>708</td>\n",
              "      <td>708</td>\n",
              "      <td>708</td>\n",
              "      <td>708</td>\n",
              "      <td>708</td>\n",
              "      <td>708</td>\n",
              "      <td>708</td>\n",
              "      <td>708</td>\n",
              "      <td>708</td>\n",
              "      <td>708</td>\n",
              "      <td>708</td>\n",
              "      <td>708</td>\n",
              "      <td>708</td>\n",
              "      <td>708</td>\n",
              "      <td>708</td>\n",
              "      <td>708</td>\n",
              "      <td>708</td>\n",
              "      <td>708</td>\n",
              "      <td>708</td>\n",
              "      <td>708</td>\n",
              "      <td>708</td>\n",
              "      <td>708</td>\n",
              "    </tr>\n",
              "  </tbody>\n",
              "</table>\n",
              "</div>"
            ],
            "text/plain": [
              "       Duration  Net Sales  ...  Gender_M  Gender_Not Specified\n",
              "Claim                       ...                                \n",
              "0         47552      47552  ...     47552                 47552\n",
              "1           708        708  ...       708                   708\n",
              "\n",
              "[2 rows x 46 columns]"
            ]
          },
          "metadata": {
            "tags": []
          },
          "execution_count": 27
        }
      ]
    },
    {
      "cell_type": "code",
      "metadata": {
        "colab": {
          "base_uri": "https://localhost:8080/"
        },
        "id": "sQwJ5U7dfPcQ",
        "outputId": "e3bef953-e21a-426a-b8b9-d11d128bbe44"
      },
      "source": [
        "import six\r\n",
        "import sys\r\n",
        "sys.modules['sklearn.externals.six'] = six\r\n",
        "\r\n",
        "from imblearn.over_sampling import SMOTE\r\n",
        "smt = SMOTE(random_state=25, sampling_strategy = 1.0 )\r\n",
        "X_train_SMOTE, y_train_SMOTE = smt.fit_sample(X_train, y_train)"
      ],
      "execution_count": null,
      "outputs": [
        {
          "output_type": "stream",
          "text": [
            "/usr/local/lib/python3.6/dist-packages/sklearn/utils/deprecation.py:87: FutureWarning: Function safe_indexing is deprecated; safe_indexing is deprecated in version 0.22 and will be removed in version 0.24.\n",
            "  warnings.warn(msg, category=FutureWarning)\n"
          ],
          "name": "stderr"
        }
      ]
    },
    {
      "cell_type": "code",
      "metadata": {
        "id": "bIJD2uMmuEqN",
        "colab": {
          "base_uri": "https://localhost:8080/"
        },
        "outputId": "dab3f744-ce29-4842-a3f2-f24fc005e1fc"
      },
      "source": [
        "X_train_SMOTE.shape, y_train_SMOTE.shape"
      ],
      "execution_count": null,
      "outputs": [
        {
          "output_type": "execute_result",
          "data": {
            "text/plain": [
              "((66538, 46), (66538,))"
            ]
          },
          "metadata": {
            "tags": []
          },
          "execution_count": 29
        }
      ]
    },
    {
      "cell_type": "code",
      "metadata": {
        "id": "dqQnC6OFRUsH"
      },
      "source": [
        "import numpy as np\r\n",
        "from sklearn.linear_model import LogisticRegression\r\n",
        "from sklearn.metrics import classification_report, confusion_matrix"
      ],
      "execution_count": null,
      "outputs": []
    },
    {
      "cell_type": "code",
      "metadata": {
        "id": "tvp_5jTJSM1f"
      },
      "source": [
        "from sklearn.linear_model import LogisticRegression\r\n",
        "model = LogisticRegression()"
      ],
      "execution_count": null,
      "outputs": []
    },
    {
      "cell_type": "code",
      "metadata": {
        "colab": {
          "base_uri": "https://localhost:8080/"
        },
        "id": "Lij3mbW7T1XX",
        "outputId": "2b0b4bfe-d36c-45ef-adbc-479c10b20220"
      },
      "source": [
        "model.fit(X_train_SMOTE, y_train_SMOTE)"
      ],
      "execution_count": null,
      "outputs": [
        {
          "output_type": "stream",
          "text": [
            "/usr/local/lib/python3.6/dist-packages/sklearn/linear_model/_logistic.py:940: ConvergenceWarning: lbfgs failed to converge (status=1):\n",
            "STOP: TOTAL NO. of ITERATIONS REACHED LIMIT.\n",
            "\n",
            "Increase the number of iterations (max_iter) or scale the data as shown in:\n",
            "    https://scikit-learn.org/stable/modules/preprocessing.html\n",
            "Please also refer to the documentation for alternative solver options:\n",
            "    https://scikit-learn.org/stable/modules/linear_model.html#logistic-regression\n",
            "  extra_warning_msg=_LOGISTIC_SOLVER_CONVERGENCE_MSG)\n"
          ],
          "name": "stderr"
        },
        {
          "output_type": "execute_result",
          "data": {
            "text/plain": [
              "LogisticRegression(C=1.0, class_weight=None, dual=False, fit_intercept=True,\n",
              "                   intercept_scaling=1, l1_ratio=None, max_iter=100,\n",
              "                   multi_class='auto', n_jobs=None, penalty='l2',\n",
              "                   random_state=None, solver='lbfgs', tol=0.0001, verbose=0,\n",
              "                   warm_start=False)"
            ]
          },
          "metadata": {
            "tags": []
          },
          "execution_count": 32
        }
      ]
    },
    {
      "cell_type": "code",
      "metadata": {
        "colab": {
          "base_uri": "https://localhost:8080/"
        },
        "id": "Vonu6pXcT9g3",
        "outputId": "12415612-d0d1-4334-aa7b-ca73f5d0d5e7"
      },
      "source": [
        "model.score(X_train_SMOTE, y_train_SMOTE)\r\n"
      ],
      "execution_count": null,
      "outputs": [
        {
          "output_type": "execute_result",
          "data": {
            "text/plain": [
              "0.7691544681234783"
            ]
          },
          "metadata": {
            "tags": []
          },
          "execution_count": 33
        }
      ]
    },
    {
      "cell_type": "code",
      "metadata": {
        "id": "5TMVZ9FzUOVT"
      },
      "source": [
        "y_pred=model.predict(X_test)"
      ],
      "execution_count": null,
      "outputs": []
    },
    {
      "cell_type": "code",
      "metadata": {
        "id": "ukVkn4XTVS2u"
      },
      "source": [
        "from sklearn.metrics import f1_score"
      ],
      "execution_count": null,
      "outputs": []
    },
    {
      "cell_type": "code",
      "metadata": {
        "id": "S2hU-YZaVWid"
      },
      "source": [
        "f1_model=f1_score(y_test,y_pred,average='weighted',labels=np.unique(y_pred))"
      ],
      "execution_count": null,
      "outputs": []
    },
    {
      "cell_type": "code",
      "metadata": {
        "colab": {
          "base_uri": "https://localhost:8080/"
        },
        "id": "rk4RUBlTVemX",
        "outputId": "81799acf-7004-41cd-e262-3f29f7da5837"
      },
      "source": [
        "print(\"F1 score Model 1 : \",f1_model)"
      ],
      "execution_count": null,
      "outputs": [
        {
          "output_type": "stream",
          "text": [
            "F1 score Model 1 :  0.8947272591464563\n"
          ],
          "name": "stdout"
        }
      ]
    },
    {
      "cell_type": "code",
      "metadata": {
        "id": "XiW1Ht0nVkqE"
      },
      "source": [
        "from sklearn.metrics import classification_report"
      ],
      "execution_count": null,
      "outputs": []
    },
    {
      "cell_type": "code",
      "metadata": {
        "colab": {
          "base_uri": "https://localhost:8080/"
        },
        "id": "zSTCcjez0uGg",
        "outputId": "ac9b3754-dbc2-4226-e69a-ba2dea96fd3e"
      },
      "source": [
        "print(classification_report(y_test,y_pred))"
      ],
      "execution_count": null,
      "outputs": [
        {
          "output_type": "stream",
          "text": [
            "              precision    recall  f1-score   support\n",
            "\n",
            "           0       0.99      0.83      0.91     14283\n",
            "           1       0.05      0.65      0.09       195\n",
            "\n",
            "    accuracy                           0.83     14478\n",
            "   macro avg       0.52      0.74      0.50     14478\n",
            "weighted avg       0.98      0.83      0.89     14478\n",
            "\n"
          ],
          "name": "stdout"
        }
      ]
    },
    {
      "cell_type": "code",
      "metadata": {
        "colab": {
          "base_uri": "https://localhost:8080/"
        },
        "id": "KNqLbbAK0zLr",
        "outputId": "5162306f-bccf-4a92-8e2c-e01517e752af"
      },
      "source": [
        "from sklearn.tree import DecisionTreeClassifier\r\n",
        "dtree = DecisionTreeClassifier(random_state=1)\r\n",
        "dtree.fit(X_train_SMOTE,y_train_SMOTE)"
      ],
      "execution_count": null,
      "outputs": [
        {
          "output_type": "execute_result",
          "data": {
            "text/plain": [
              "DecisionTreeClassifier(ccp_alpha=0.0, class_weight=None, criterion='gini',\n",
              "                       max_depth=None, max_features=None, max_leaf_nodes=None,\n",
              "                       min_impurity_decrease=0.0, min_impurity_split=None,\n",
              "                       min_samples_leaf=1, min_samples_split=2,\n",
              "                       min_weight_fraction_leaf=0.0, presort='deprecated',\n",
              "                       random_state=1, splitter='best')"
            ]
          },
          "metadata": {
            "tags": []
          },
          "execution_count": 40
        }
      ]
    },
    {
      "cell_type": "code",
      "metadata": {
        "id": "3W8oVmyp41g2"
      },
      "source": [
        "predictions = dtree.predict(X_test)"
      ],
      "execution_count": null,
      "outputs": []
    },
    {
      "cell_type": "code",
      "metadata": {
        "colab": {
          "base_uri": "https://localhost:8080/"
        },
        "id": "CHFXg3xA5QZs",
        "outputId": "54d43e1b-f254-4a04-d6f3-07d3d986b1a6"
      },
      "source": [
        "from sklearn.metrics import classification_report,confusion_matrix\r\n",
        "print(classification_report(y_test,predictions))"
      ],
      "execution_count": null,
      "outputs": [
        {
          "output_type": "stream",
          "text": [
            "              precision    recall  f1-score   support\n",
            "\n",
            "           0       0.99      0.98      0.98     14283\n",
            "           1       0.05      0.09      0.06       195\n",
            "\n",
            "    accuracy                           0.96     14478\n",
            "   macro avg       0.52      0.53      0.52     14478\n",
            "weighted avg       0.97      0.96      0.97     14478\n",
            "\n"
          ],
          "name": "stdout"
        }
      ]
    },
    {
      "cell_type": "code",
      "metadata": {
        "colab": {
          "base_uri": "https://localhost:8080/"
        },
        "id": "UsJwFKpk5UuC",
        "outputId": "15a74ab9-e7ad-48fa-a8c6-62794c93be88"
      },
      "source": [
        "#Random Forest\r\n",
        "\r\n",
        "from sklearn.ensemble import RandomForestClassifier\r\n",
        "rfc = RandomForestClassifier(random_state=1)\r\n",
        "rfc.fit(X_train_SMOTE, y_train_SMOTE)"
      ],
      "execution_count": null,
      "outputs": [
        {
          "output_type": "execute_result",
          "data": {
            "text/plain": [
              "RandomForestClassifier(bootstrap=True, ccp_alpha=0.0, class_weight=None,\n",
              "                       criterion='gini', max_depth=None, max_features='auto',\n",
              "                       max_leaf_nodes=None, max_samples=None,\n",
              "                       min_impurity_decrease=0.0, min_impurity_split=None,\n",
              "                       min_samples_leaf=1, min_samples_split=2,\n",
              "                       min_weight_fraction_leaf=0.0, n_estimators=100,\n",
              "                       n_jobs=None, oob_score=False, random_state=1, verbose=0,\n",
              "                       warm_start=False)"
            ]
          },
          "metadata": {
            "tags": []
          },
          "execution_count": 43
        }
      ]
    },
    {
      "cell_type": "code",
      "metadata": {
        "id": "PorAW3v16jd7"
      },
      "source": [
        "rfc_pred = rfc.predict(X_test)"
      ],
      "execution_count": null,
      "outputs": []
    },
    {
      "cell_type": "code",
      "metadata": {
        "id": "DC2TWx746mu9",
        "colab": {
          "base_uri": "https://localhost:8080/"
        },
        "outputId": "ac2b2e08-b18e-4ea9-e9ff-b22ca3d1f013"
      },
      "source": [
        "print(classification_report(y_test,rfc_pred))"
      ],
      "execution_count": null,
      "outputs": [
        {
          "output_type": "stream",
          "text": [
            "              precision    recall  f1-score   support\n",
            "\n",
            "           0       0.99      0.99      0.99     14283\n",
            "           1       0.06      0.07      0.07       195\n",
            "\n",
            "    accuracy                           0.97     14478\n",
            "   macro avg       0.53      0.53      0.53     14478\n",
            "weighted avg       0.97      0.97      0.97     14478\n",
            "\n"
          ],
          "name": "stdout"
        }
      ]
    },
    {
      "cell_type": "code",
      "metadata": {
        "id": "_HQORcY56pcG"
      },
      "source": [
        "from sklearn.model_selection import train_test_split\r\n",
        "from sklearn.model_selection import cross_val_score\r\n",
        "from sklearn.model_selection import GridSearchCV\r\n",
        "from sklearn.ensemble import RandomForestClassifier\r\n",
        "from sklearn.metrics import accuracy_score\r\n",
        "from sklearn.svm import SVC\r\n"
      ],
      "execution_count": null,
      "outputs": []
    },
    {
      "cell_type": "code",
      "metadata": {
        "id": "-m_4P-UztwOQ"
      },
      "source": [
        "rfc=RandomForestClassifier(random_state=1)\r\n",
        "\r\n",
        "param_grid = { \r\n",
        "    'bootstrap': [True],\r\n",
        "    'max_depth': [10, 20],\r\n",
        "    'min_samples_leaf': [3, 4],\r\n",
        "    'min_samples_split': [4, 6],\r\n",
        "    'n_estimators': [100, 200],\r\n",
        "\r\n",
        "}\r\n",
        "\r\n",
        "CV_rfc = GridSearchCV(estimator = rfc, param_grid=param_grid, cv=3, verbose=2, n_jobs=-1)"
      ],
      "execution_count": null,
      "outputs": []
    },
    {
      "cell_type": "code",
      "metadata": {
        "id": "ndzjjdHO2T_C"
      },
      "source": [
        ""
      ],
      "execution_count": null,
      "outputs": []
    },
    {
      "cell_type": "code",
      "metadata": {
        "colab": {
          "base_uri": "https://localhost:8080/"
        },
        "id": "cH5qgfHcvWgO",
        "outputId": "1566cb7c-6bc5-41a6-d7a2-6804f2a398db"
      },
      "source": [
        "CV_rfc.fit(X_train_SMOTE, y_train_SMOTE)"
      ],
      "execution_count": null,
      "outputs": [
        {
          "output_type": "stream",
          "text": [
            "Fitting 3 folds for each of 16 candidates, totalling 48 fits\n"
          ],
          "name": "stdout"
        },
        {
          "output_type": "stream",
          "text": [
            "[Parallel(n_jobs=-1)]: Using backend LokyBackend with 2 concurrent workers.\n",
            "[Parallel(n_jobs=-1)]: Done  37 tasks      | elapsed:  2.5min\n",
            "[Parallel(n_jobs=-1)]: Done  48 out of  48 | elapsed:  3.4min finished\n"
          ],
          "name": "stderr"
        },
        {
          "output_type": "execute_result",
          "data": {
            "text/plain": [
              "GridSearchCV(cv=3, error_score=nan,\n",
              "             estimator=RandomForestClassifier(bootstrap=True, ccp_alpha=0.0,\n",
              "                                              class_weight=None,\n",
              "                                              criterion='gini', max_depth=None,\n",
              "                                              max_features='auto',\n",
              "                                              max_leaf_nodes=None,\n",
              "                                              max_samples=None,\n",
              "                                              min_impurity_decrease=0.0,\n",
              "                                              min_impurity_split=None,\n",
              "                                              min_samples_leaf=1,\n",
              "                                              min_samples_split=2,\n",
              "                                              min_weight_fraction_leaf=0.0,\n",
              "                                              n_estimators=100, n_jobs=None,\n",
              "                                              oob_score=False, random_state=1,\n",
              "                                              verbose=0, warm_start=False),\n",
              "             iid='deprecated', n_jobs=-1,\n",
              "             param_grid={'bootstrap': [True], 'max_depth': [10, 20],\n",
              "                         'min_samples_leaf': [3, 4],\n",
              "                         'min_samples_split': [4, 6],\n",
              "                         'n_estimators': [100, 200]},\n",
              "             pre_dispatch='2*n_jobs', refit=True, return_train_score=False,\n",
              "             scoring=None, verbose=2)"
            ]
          },
          "metadata": {
            "tags": []
          },
          "execution_count": 48
        }
      ]
    },
    {
      "cell_type": "code",
      "metadata": {
        "colab": {
          "base_uri": "https://localhost:8080/"
        },
        "id": "JzvkGE11wtV_",
        "outputId": "965f6f18-4b3d-43b4-bfe6-b20fca3b2822"
      },
      "source": [
        "CV_rfc.best_params_"
      ],
      "execution_count": null,
      "outputs": [
        {
          "output_type": "execute_result",
          "data": {
            "text/plain": [
              "{'bootstrap': True,\n",
              " 'max_depth': 20,\n",
              " 'min_samples_leaf': 3,\n",
              " 'min_samples_split': 4,\n",
              " 'n_estimators': 200}"
            ]
          },
          "metadata": {
            "tags": []
          },
          "execution_count": 49
        }
      ]
    },
    {
      "cell_type": "code",
      "metadata": {
        "id": "JYh1oDVe0Q9W"
      },
      "source": [
        "CV_rfc_pred = CV_rfc.predict(X_test)"
      ],
      "execution_count": null,
      "outputs": []
    },
    {
      "cell_type": "code",
      "metadata": {
        "colab": {
          "base_uri": "https://localhost:8080/"
        },
        "id": "PftFP8nC1igq",
        "outputId": "1dc20470-1b23-445d-bc68-ef79afdf3b1f"
      },
      "source": [
        "print(classification_report(y_test,CV_rfc_pred))"
      ],
      "execution_count": null,
      "outputs": [
        {
          "output_type": "stream",
          "text": [
            "              precision    recall  f1-score   support\n",
            "\n",
            "           0       0.99      0.97      0.98     14283\n",
            "           1       0.06      0.13      0.08       195\n",
            "\n",
            "    accuracy                           0.96     14478\n",
            "   macro avg       0.53      0.55      0.53     14478\n",
            "weighted avg       0.98      0.96      0.97     14478\n",
            "\n"
          ],
          "name": "stdout"
        }
      ]
    },
    {
      "cell_type": "code",
      "metadata": {
        "id": "0DygAqhZ1tpe"
      },
      "source": [
        "rfc2=RandomForestClassifier(random_state=1)\r\n",
        "\r\n",
        "param_grid2 = { \r\n",
        "    'bootstrap': [True],\r\n",
        "    'max_leaf_nodes': [5, 10, 15, 20],\r\n",
        "    'min_samples_split': [4, 6, 8, 10],\r\n",
        "    'n_estimators':[200]\r\n",
        "\r\n",
        "\r\n",
        "}\r\n",
        "\r\n",
        "CV_rfc2 = GridSearchCV( estimator = rfc2,param_grid=param_grid2, cv=3, verbose=2, n_jobs=-1)"
      ],
      "execution_count": null,
      "outputs": []
    },
    {
      "cell_type": "code",
      "metadata": {
        "id": "LOD8_6322Vhl"
      },
      "source": [
        ""
      ],
      "execution_count": null,
      "outputs": []
    },
    {
      "cell_type": "code",
      "metadata": {
        "colab": {
          "base_uri": "https://localhost:8080/"
        },
        "id": "pOPRKx4R2hW0",
        "outputId": "6c274a9f-6cfa-475d-813e-d74454296ad1"
      },
      "source": [
        "CV_rfc2.fit(X_train_SMOTE, y_train_SMOTE)"
      ],
      "execution_count": null,
      "outputs": [
        {
          "output_type": "stream",
          "text": [
            "Fitting 3 folds for each of 16 candidates, totalling 48 fits\n"
          ],
          "name": "stdout"
        },
        {
          "output_type": "stream",
          "text": [
            "[Parallel(n_jobs=-1)]: Using backend LokyBackend with 2 concurrent workers.\n",
            "[Parallel(n_jobs=-1)]: Done  37 tasks      | elapsed:  2.1min\n",
            "[Parallel(n_jobs=-1)]: Done  48 out of  48 | elapsed:  2.8min finished\n"
          ],
          "name": "stderr"
        },
        {
          "output_type": "execute_result",
          "data": {
            "text/plain": [
              "GridSearchCV(cv=3, error_score=nan,\n",
              "             estimator=RandomForestClassifier(bootstrap=True, ccp_alpha=0.0,\n",
              "                                              class_weight=None,\n",
              "                                              criterion='gini', max_depth=None,\n",
              "                                              max_features='auto',\n",
              "                                              max_leaf_nodes=None,\n",
              "                                              max_samples=None,\n",
              "                                              min_impurity_decrease=0.0,\n",
              "                                              min_impurity_split=None,\n",
              "                                              min_samples_leaf=1,\n",
              "                                              min_samples_split=2,\n",
              "                                              min_weight_fraction_leaf=0.0,\n",
              "                                              n_estimators=100, n_jobs=None,\n",
              "                                              oob_score=False, random_state=1,\n",
              "                                              verbose=0, warm_start=False),\n",
              "             iid='deprecated', n_jobs=-1,\n",
              "             param_grid={'bootstrap': [True], 'max_leaf_nodes': [5, 10, 15, 20],\n",
              "                         'min_samples_split': [4, 6, 8, 10],\n",
              "                         'n_estimators': [200]},\n",
              "             pre_dispatch='2*n_jobs', refit=True, return_train_score=False,\n",
              "             scoring=None, verbose=2)"
            ]
          },
          "metadata": {
            "tags": []
          },
          "execution_count": 54
        }
      ]
    },
    {
      "cell_type": "code",
      "metadata": {
        "colab": {
          "base_uri": "https://localhost:8080/"
        },
        "id": "y0yqRiW72sFe",
        "outputId": "7ac09249-c56a-4793-9316-d04fe8bbd803"
      },
      "source": [
        "CV_rfc2.best_params_"
      ],
      "execution_count": null,
      "outputs": [
        {
          "output_type": "execute_result",
          "data": {
            "text/plain": [
              "{'bootstrap': True,\n",
              " 'max_leaf_nodes': 20,\n",
              " 'min_samples_split': 4,\n",
              " 'n_estimators': 200}"
            ]
          },
          "metadata": {
            "tags": []
          },
          "execution_count": 55
        }
      ]
    },
    {
      "cell_type": "code",
      "metadata": {
        "colab": {
          "base_uri": "https://localhost:8080/"
        },
        "id": "MnpI2swfWEQn",
        "outputId": "5ef0766c-3aaa-4f2d-8ac2-99816a26543d"
      },
      "source": [
        "CV_rfc2."
      ],
      "execution_count": null,
      "outputs": [
        {
          "output_type": "execute_result",
          "data": {
            "text/plain": [
              "<bound method BaseEstimator.get_params of GridSearchCV(cv=3, error_score=nan,\n",
              "             estimator=RandomForestClassifier(bootstrap=True, ccp_alpha=0.0,\n",
              "                                              class_weight=None,\n",
              "                                              criterion='gini', max_depth=None,\n",
              "                                              max_features='auto',\n",
              "                                              max_leaf_nodes=None,\n",
              "                                              max_samples=None,\n",
              "                                              min_impurity_decrease=0.0,\n",
              "                                              min_impurity_split=None,\n",
              "                                              min_samples_leaf=1,\n",
              "                                              min_samples_split=2,\n",
              "                                              min_weight_fraction_leaf=0.0,\n",
              "                                              n_estimators=100, n_jobs=None,\n",
              "                                              oob_score=False, random_state=1,\n",
              "                                              verbose=0, warm_start=False),\n",
              "             iid='deprecated', n_jobs=-1,\n",
              "             param_grid={'bootstrap': [True], 'max_leaf_nodes': [5, 10, 15, 20],\n",
              "                         'min_samples_split': [4, 6, 8, 10],\n",
              "                         'n_estimators': [200]},\n",
              "             pre_dispatch='2*n_jobs', refit=True, return_train_score=False,\n",
              "             scoring=None, verbose=2)>"
            ]
          },
          "metadata": {
            "tags": []
          },
          "execution_count": 60
        }
      ]
    },
    {
      "cell_type": "code",
      "metadata": {
        "id": "4uy3hDAALh7w"
      },
      "source": [
        "CV_rfc2_pred = CV_rfc2.predict(X_test)"
      ],
      "execution_count": null,
      "outputs": []
    },
    {
      "cell_type": "code",
      "metadata": {
        "colab": {
          "base_uri": "https://localhost:8080/"
        },
        "id": "HHJni8Y2XV_o",
        "outputId": "dee002ab-6552-45c7-864d-8821f362cf9e"
      },
      "source": [
        "len(X_test.columns)"
      ],
      "execution_count": null,
      "outputs": [
        {
          "output_type": "execute_result",
          "data": {
            "text/plain": [
              "46"
            ]
          },
          "metadata": {
            "tags": []
          },
          "execution_count": 66
        }
      ]
    },
    {
      "cell_type": "code",
      "metadata": {
        "colab": {
          "base_uri": "https://localhost:8080/"
        },
        "id": "-ZauHRgkLs6Y",
        "outputId": "de5fe3e3-e356-480c-cce0-59ac955d1b89"
      },
      "source": [
        "print(classification_report(y_test,CV_rfc2_pred))"
      ],
      "execution_count": null,
      "outputs": [
        {
          "output_type": "stream",
          "text": [
            "              precision    recall  f1-score   support\n",
            "\n",
            "           0       0.99      0.87      0.93     14283\n",
            "           1       0.06      0.59      0.11       195\n",
            "\n",
            "    accuracy                           0.87     14478\n",
            "   macro avg       0.53      0.73      0.52     14478\n",
            "weighted avg       0.98      0.87      0.92     14478\n",
            "\n"
          ],
          "name": "stdout"
        }
      ]
    },
    {
      "cell_type": "code",
      "metadata": {
        "colab": {
          "base_uri": "https://localhost:8080/"
        },
        "id": "0rmVpDr2L1or",
        "outputId": "d6596ba4-9804-45d7-801d-10421e787d4b"
      },
      "source": [
        "from sklearn.feature_selection import RFE\r\n",
        "from sklearn.tree import DecisionTreeClassifier\r\n",
        "from sklearn.feature_selection import RFECV\r\n",
        "from sklearn.ensemble import RandomForestClassifier\r\n",
        "from sklearn.model_selection import RepeatedStratifiedKFold\r\n",
        "from sklearn.model_selection import cross_val_score\r\n",
        "from sklearn.pipeline import Pipeline\r\n",
        "import numpy as np\r\n",
        "\r\n",
        "rfc = RandomForestClassifier(random_state=1, n_estimators=1000, max_depth=5)\r\n",
        "#rfc = RandomForestClassifier(random_state=1, n_estimators=1000, max_depth=5)\r\n",
        "RFE_selector = RFE(rfc,  step=1)   # initialize the boruta selector\r\n",
        "RFE_selector.fit(np.array(X_train_SMOTE), np.array(y_train_SMOTE))  \r\n",
        "#rfe = RFECV(estimator=DecisionTreeClassifier())\r\n",
        "#rfc = RandomForestClassifier(random_state=1)\r\n",
        "#pipeline = Pipeline(steps=[('s',rfe),('m',rfc)])\r\n",
        "#cv = RepeatedStratifiedKFold(n_splits=10, n_repeats=3, random_state=1)\r\n",
        "#n_scores = cross_val_score(pipeline, X_train_SMOTE, y_train_SMOTE, scoring='accuracy', cv=cv, n_jobs=-1, error_score='raise')\r\n"
      ],
      "execution_count": null,
      "outputs": [
        {
          "output_type": "execute_result",
          "data": {
            "text/plain": [
              "RFE(estimator=RandomForestClassifier(max_depth=5, n_estimators=1000,\n",
              "                                     random_state=1))"
            ]
          },
          "metadata": {
            "tags": []
          },
          "execution_count": 82
        }
      ]
    },
    {
      "cell_type": "code",
      "metadata": {
        "colab": {
          "base_uri": "https://localhost:8080/"
        },
        "id": "syCIWQ0NSVRW",
        "outputId": "ecb73e96-e232-4a84-c295-e3db9073d9de"
      },
      "source": [
        "print(\"Selected Features: \", RFE_selector.support_)    # check selected features\r\n",
        " \r\n",
        "\r\n",
        "print(\"Ranking: \",RFE_selector.ranking_)               # check ranking of features\r\n",
        "\r\n",
        "print(\"No. of significant features: \", RFE_selector.n_features_)\r\n"
      ],
      "execution_count": null,
      "outputs": [
        {
          "output_type": "stream",
          "text": [
            "Selected Features:  [ True  True  True  True False  True False False False  True  True  True\n",
            "  True False  True False False False False  True False False  True  True\n",
            " False False  True  True  True False False  True False False  True  True\n",
            "  True False False False False False False  True  True  True]\n",
            "Ranking:  [ 1  1  1  1 12  1 22 20 23  1  1  1  1  8  1  3  5  4 13  1 18 11  1  1\n",
            " 17  9  1  1  1 21 15  1 14 19  1  1  1  2 10 16  6  7 24  1  1  1]\n",
            "No. of significant features:  23\n"
          ],
          "name": "stdout"
        }
      ]
    },
    {
      "cell_type": "code",
      "metadata": {
        "colab": {
          "base_uri": "https://localhost:8080/",
          "height": 1000
        },
        "id": "DRoFq4yzXupq",
        "outputId": "0ff7e437-f141-4496-f1cd-c25c7ff0b0b4"
      },
      "source": [
        "\r\n",
        "selected_rf_features = pd.DataFrame({'Feature':list(X_train.columns),\r\n",
        "                                      'Ranking':RFE_selector.ranking_})\r\n",
        "selected_rf_features.sort_values(by='Ranking')"
      ],
      "execution_count": null,
      "outputs": [
        {
          "output_type": "execute_result",
          "data": {
            "text/html": [
              "<div>\n",
              "<style scoped>\n",
              "    .dataframe tbody tr th:only-of-type {\n",
              "        vertical-align: middle;\n",
              "    }\n",
              "\n",
              "    .dataframe tbody tr th {\n",
              "        vertical-align: top;\n",
              "    }\n",
              "\n",
              "    .dataframe thead th {\n",
              "        text-align: right;\n",
              "    }\n",
              "</style>\n",
              "<table border=\"1\" class=\"dataframe\">\n",
              "  <thead>\n",
              "    <tr style=\"text-align: right;\">\n",
              "      <th></th>\n",
              "      <th>Feature</th>\n",
              "      <th>Ranking</th>\n",
              "    </tr>\n",
              "  </thead>\n",
              "  <tbody>\n",
              "    <tr>\n",
              "      <th>0</th>\n",
              "      <td>Duration</td>\n",
              "      <td>1</td>\n",
              "    </tr>\n",
              "    <tr>\n",
              "      <th>43</th>\n",
              "      <td>Product Name_Value Plan</td>\n",
              "      <td>1</td>\n",
              "    </tr>\n",
              "    <tr>\n",
              "      <th>36</th>\n",
              "      <td>Product Name_Single Trip Travel Protect Gold</td>\n",
              "      <td>1</td>\n",
              "    </tr>\n",
              "    <tr>\n",
              "      <th>35</th>\n",
              "      <td>Product Name_Silver Plan</td>\n",
              "      <td>1</td>\n",
              "    </tr>\n",
              "    <tr>\n",
              "      <th>34</th>\n",
              "      <td>Product Name_Rental Vehicle Excess Insurance</td>\n",
              "      <td>1</td>\n",
              "    </tr>\n",
              "    <tr>\n",
              "      <th>31</th>\n",
              "      <td>Product Name_Gold Plan</td>\n",
              "      <td>1</td>\n",
              "    </tr>\n",
              "    <tr>\n",
              "      <th>28</th>\n",
              "      <td>Product Name_Cancellation Plan</td>\n",
              "      <td>1</td>\n",
              "    </tr>\n",
              "    <tr>\n",
              "      <th>27</th>\n",
              "      <td>Product Name_Bronze Plan</td>\n",
              "      <td>1</td>\n",
              "    </tr>\n",
              "    <tr>\n",
              "      <th>26</th>\n",
              "      <td>Product Name_Basic Plan</td>\n",
              "      <td>1</td>\n",
              "    </tr>\n",
              "    <tr>\n",
              "      <th>23</th>\n",
              "      <td>Product Name_Annual Travel Protect Gold</td>\n",
              "      <td>1</td>\n",
              "    </tr>\n",
              "    <tr>\n",
              "      <th>44</th>\n",
              "      <td>Gender_M</td>\n",
              "      <td>1</td>\n",
              "    </tr>\n",
              "    <tr>\n",
              "      <th>19</th>\n",
              "      <td>Product Name_2 way Comprehensive Plan</td>\n",
              "      <td>1</td>\n",
              "    </tr>\n",
              "    <tr>\n",
              "      <th>14</th>\n",
              "      <td>Agency_LWC</td>\n",
              "      <td>1</td>\n",
              "    </tr>\n",
              "    <tr>\n",
              "      <th>22</th>\n",
              "      <td>Product Name_Annual Silver Plan</td>\n",
              "      <td>1</td>\n",
              "    </tr>\n",
              "    <tr>\n",
              "      <th>12</th>\n",
              "      <td>Agency_JZI</td>\n",
              "      <td>1</td>\n",
              "    </tr>\n",
              "    <tr>\n",
              "      <th>1</th>\n",
              "      <td>Net Sales</td>\n",
              "      <td>1</td>\n",
              "    </tr>\n",
              "    <tr>\n",
              "      <th>2</th>\n",
              "      <td>Commision (in value)</td>\n",
              "      <td>1</td>\n",
              "    </tr>\n",
              "    <tr>\n",
              "      <th>3</th>\n",
              "      <td>Age</td>\n",
              "      <td>1</td>\n",
              "    </tr>\n",
              "    <tr>\n",
              "      <th>5</th>\n",
              "      <td>Agency_C2B</td>\n",
              "      <td>1</td>\n",
              "    </tr>\n",
              "    <tr>\n",
              "      <th>9</th>\n",
              "      <td>Agency_CWT</td>\n",
              "      <td>1</td>\n",
              "    </tr>\n",
              "    <tr>\n",
              "      <th>10</th>\n",
              "      <td>Agency_EPX</td>\n",
              "      <td>1</td>\n",
              "    </tr>\n",
              "    <tr>\n",
              "      <th>45</th>\n",
              "      <td>Gender_Not Specified</td>\n",
              "      <td>1</td>\n",
              "    </tr>\n",
              "    <tr>\n",
              "      <th>11</th>\n",
              "      <td>Agency_JWT</td>\n",
              "      <td>1</td>\n",
              "    </tr>\n",
              "    <tr>\n",
              "      <th>37</th>\n",
              "      <td>Product Name_Single Trip Travel Protect Platinum</td>\n",
              "      <td>2</td>\n",
              "    </tr>\n",
              "    <tr>\n",
              "      <th>15</th>\n",
              "      <td>Agency_RAB</td>\n",
              "      <td>3</td>\n",
              "    </tr>\n",
              "    <tr>\n",
              "      <th>17</th>\n",
              "      <td>Agency_TST</td>\n",
              "      <td>4</td>\n",
              "    </tr>\n",
              "    <tr>\n",
              "      <th>16</th>\n",
              "      <td>Agency_SSI</td>\n",
              "      <td>5</td>\n",
              "    </tr>\n",
              "    <tr>\n",
              "      <th>40</th>\n",
              "      <td>Product Name_Ticket Protector</td>\n",
              "      <td>6</td>\n",
              "    </tr>\n",
              "    <tr>\n",
              "      <th>41</th>\n",
              "      <td>Product Name_Travel Cruise Protect</td>\n",
              "      <td>7</td>\n",
              "    </tr>\n",
              "    <tr>\n",
              "      <th>13</th>\n",
              "      <td>Agency_KML</td>\n",
              "      <td>8</td>\n",
              "    </tr>\n",
              "    <tr>\n",
              "      <th>25</th>\n",
              "      <td>Product Name_Annual Travel Protect Silver</td>\n",
              "      <td>9</td>\n",
              "    </tr>\n",
              "    <tr>\n",
              "      <th>38</th>\n",
              "      <td>Product Name_Single Trip Travel Protect Silver</td>\n",
              "      <td>10</td>\n",
              "    </tr>\n",
              "    <tr>\n",
              "      <th>21</th>\n",
              "      <td>Product Name_Annual Gold Plan</td>\n",
              "      <td>11</td>\n",
              "    </tr>\n",
              "    <tr>\n",
              "      <th>4</th>\n",
              "      <td>Agency_ART</td>\n",
              "      <td>12</td>\n",
              "    </tr>\n",
              "    <tr>\n",
              "      <th>18</th>\n",
              "      <td>Agency_TTW</td>\n",
              "      <td>13</td>\n",
              "    </tr>\n",
              "    <tr>\n",
              "      <th>32</th>\n",
              "      <td>Product Name_Individual Comprehensive Plan</td>\n",
              "      <td>14</td>\n",
              "    </tr>\n",
              "    <tr>\n",
              "      <th>30</th>\n",
              "      <td>Product Name_Comprehensive Plan</td>\n",
              "      <td>15</td>\n",
              "    </tr>\n",
              "    <tr>\n",
              "      <th>39</th>\n",
              "      <td>Product Name_Spouse or Parents Comprehensive Plan</td>\n",
              "      <td>16</td>\n",
              "    </tr>\n",
              "    <tr>\n",
              "      <th>24</th>\n",
              "      <td>Product Name_Annual Travel Protect Platinum</td>\n",
              "      <td>17</td>\n",
              "    </tr>\n",
              "    <tr>\n",
              "      <th>20</th>\n",
              "      <td>Product Name_24 Protect</td>\n",
              "      <td>18</td>\n",
              "    </tr>\n",
              "    <tr>\n",
              "      <th>33</th>\n",
              "      <td>Product Name_Premier Plan</td>\n",
              "      <td>19</td>\n",
              "    </tr>\n",
              "    <tr>\n",
              "      <th>7</th>\n",
              "      <td>Agency_CCR</td>\n",
              "      <td>20</td>\n",
              "    </tr>\n",
              "    <tr>\n",
              "      <th>29</th>\n",
              "      <td>Product Name_Child Comprehensive Plan</td>\n",
              "      <td>21</td>\n",
              "    </tr>\n",
              "    <tr>\n",
              "      <th>6</th>\n",
              "      <td>Agency_CBH</td>\n",
              "      <td>22</td>\n",
              "    </tr>\n",
              "    <tr>\n",
              "      <th>8</th>\n",
              "      <td>Agency_CSR</td>\n",
              "      <td>23</td>\n",
              "    </tr>\n",
              "    <tr>\n",
              "      <th>42</th>\n",
              "      <td>Product Name_Travel Cruise Protect Family</td>\n",
              "      <td>24</td>\n",
              "    </tr>\n",
              "  </tbody>\n",
              "</table>\n",
              "</div>"
            ],
            "text/plain": [
              "                                              Feature  Ranking\n",
              "0                                            Duration        1\n",
              "43                            Product Name_Value Plan        1\n",
              "36       Product Name_Single Trip Travel Protect Gold        1\n",
              "35                           Product Name_Silver Plan        1\n",
              "34       Product Name_Rental Vehicle Excess Insurance        1\n",
              "31                             Product Name_Gold Plan        1\n",
              "28                     Product Name_Cancellation Plan        1\n",
              "27                           Product Name_Bronze Plan        1\n",
              "26                            Product Name_Basic Plan        1\n",
              "23            Product Name_Annual Travel Protect Gold        1\n",
              "44                                           Gender_M        1\n",
              "19              Product Name_2 way Comprehensive Plan        1\n",
              "14                                         Agency_LWC        1\n",
              "22                    Product Name_Annual Silver Plan        1\n",
              "12                                         Agency_JZI        1\n",
              "1                                           Net Sales        1\n",
              "2                                Commision (in value)        1\n",
              "3                                                 Age        1\n",
              "5                                          Agency_C2B        1\n",
              "9                                          Agency_CWT        1\n",
              "10                                         Agency_EPX        1\n",
              "45                               Gender_Not Specified        1\n",
              "11                                         Agency_JWT        1\n",
              "37   Product Name_Single Trip Travel Protect Platinum        2\n",
              "15                                         Agency_RAB        3\n",
              "17                                         Agency_TST        4\n",
              "16                                         Agency_SSI        5\n",
              "40                      Product Name_Ticket Protector        6\n",
              "41                 Product Name_Travel Cruise Protect        7\n",
              "13                                         Agency_KML        8\n",
              "25          Product Name_Annual Travel Protect Silver        9\n",
              "38     Product Name_Single Trip Travel Protect Silver       10\n",
              "21                      Product Name_Annual Gold Plan       11\n",
              "4                                          Agency_ART       12\n",
              "18                                         Agency_TTW       13\n",
              "32         Product Name_Individual Comprehensive Plan       14\n",
              "30                    Product Name_Comprehensive Plan       15\n",
              "39  Product Name_Spouse or Parents Comprehensive Plan       16\n",
              "24        Product Name_Annual Travel Protect Platinum       17\n",
              "20                            Product Name_24 Protect       18\n",
              "33                          Product Name_Premier Plan       19\n",
              "7                                          Agency_CCR       20\n",
              "29              Product Name_Child Comprehensive Plan       21\n",
              "6                                          Agency_CBH       22\n",
              "8                                          Agency_CSR       23\n",
              "42          Product Name_Travel Cruise Protect Family       24"
            ]
          },
          "metadata": {
            "tags": []
          },
          "execution_count": 88
        }
      ]
    },
    {
      "cell_type": "code",
      "metadata": {
        "id": "aGPsqp45G1YF"
      },
      "source": [
        "X_important_train = RFE_selector.transform(np.array(X_train_SMOTE))\r\n",
        "X_important_test = RFE_selector.transform(np.array(X_test))\r\n"
      ],
      "execution_count": null,
      "outputs": []
    },
    {
      "cell_type": "code",
      "metadata": {
        "colab": {
          "base_uri": "https://localhost:8080/"
        },
        "id": "5MNwuiJFJ-GT",
        "outputId": "ca87eaf0-5094-4a3d-f257-06db6ca97d11"
      },
      "source": [
        "# Create a new random forest classifier for the most important features\r\n",
        "rf_important = RandomForestClassifier(random_state=1, n_estimators=1000, n_jobs = -1)\r\n",
        "\r\n",
        "# Train the new classifier on the new dataset containing the most important features\r\n",
        "rf_important.fit(X_important_train, y_train_SMOTE)"
      ],
      "execution_count": null,
      "outputs": [
        {
          "output_type": "execute_result",
          "data": {
            "text/plain": [
              "RandomForestClassifier(n_estimators=1000, n_jobs=-1, random_state=1)"
            ]
          },
          "metadata": {
            "tags": []
          },
          "execution_count": 91
        }
      ]
    },
    {
      "cell_type": "code",
      "metadata": {
        "id": "TSsg_Y5NKbcp"
      },
      "source": [
        "rf_important_pred = rf_important.predict(X_important_test)"
      ],
      "execution_count": null,
      "outputs": []
    },
    {
      "cell_type": "code",
      "metadata": {
        "colab": {
          "base_uri": "https://localhost:8080/"
        },
        "id": "h9PCO3hdLJl8",
        "outputId": "b395dc7e-63a0-42ad-f4c3-730d54b0d910"
      },
      "source": [
        "print(classification_report(y_test,rf_important_pred))"
      ],
      "execution_count": null,
      "outputs": [
        {
          "output_type": "stream",
          "text": [
            "              precision    recall  f1-score   support\n",
            "\n",
            "           0       0.99      0.99      0.99     14283\n",
            "           1       0.06      0.06      0.06       195\n",
            "\n",
            "    accuracy                           0.97     14478\n",
            "   macro avg       0.52      0.52      0.52     14478\n",
            "weighted avg       0.97      0.97      0.97     14478\n",
            "\n"
          ],
          "name": "stdout"
        }
      ]
    },
    {
      "cell_type": "code",
      "metadata": {
        "id": "OjYxeY2VL8Ht"
      },
      "source": [
        ""
      ],
      "execution_count": null,
      "outputs": []
    },
    {
      "cell_type": "markdown",
      "metadata": {
        "id": "e68Dv8Sc0rXo"
      },
      "source": [
        "# Test Data\r\n",
        "\r\n",
        "---\r\n",
        "\r\n"
      ]
    },
    {
      "cell_type": "code",
      "metadata": {
        "id": "1umPP3sO02L5"
      },
      "source": [
        "import pandas as pd\r\n",
        "test_data = pd.read_csv('https://raw.githubusercontent.com/dphi-official/Datasets/master/travel_insurance/Testing_set_label.csv')"
      ],
      "execution_count": null,
      "outputs": []
    },
    {
      "cell_type": "code",
      "metadata": {
        "colab": {
          "base_uri": "https://localhost:8080/",
          "height": 195
        },
        "id": "QAd0V2oX0_om",
        "outputId": "f4b7de43-f56c-4e24-a7a1-f5fb3f65a47d"
      },
      "source": [
        "test_data.head()"
      ],
      "execution_count": null,
      "outputs": [
        {
          "output_type": "execute_result",
          "data": {
            "text/html": [
              "<div>\n",
              "<style scoped>\n",
              "    .dataframe tbody tr th:only-of-type {\n",
              "        vertical-align: middle;\n",
              "    }\n",
              "\n",
              "    .dataframe tbody tr th {\n",
              "        vertical-align: top;\n",
              "    }\n",
              "\n",
              "    .dataframe thead th {\n",
              "        text-align: right;\n",
              "    }\n",
              "</style>\n",
              "<table border=\"1\" class=\"dataframe\">\n",
              "  <thead>\n",
              "    <tr style=\"text-align: right;\">\n",
              "      <th></th>\n",
              "      <th>Agency</th>\n",
              "      <th>Agency Type</th>\n",
              "      <th>Distribution Channel</th>\n",
              "      <th>Product Name</th>\n",
              "      <th>Duration</th>\n",
              "      <th>Destination</th>\n",
              "      <th>Net Sales</th>\n",
              "      <th>Commision (in value)</th>\n",
              "      <th>Gender</th>\n",
              "      <th>Age</th>\n",
              "    </tr>\n",
              "  </thead>\n",
              "  <tbody>\n",
              "    <tr>\n",
              "      <th>0</th>\n",
              "      <td>EPX</td>\n",
              "      <td>Travel Agency</td>\n",
              "      <td>Online</td>\n",
              "      <td>Cancellation Plan</td>\n",
              "      <td>24</td>\n",
              "      <td>HONG KONG</td>\n",
              "      <td>27.0</td>\n",
              "      <td>0.0</td>\n",
              "      <td>NaN</td>\n",
              "      <td>36</td>\n",
              "    </tr>\n",
              "    <tr>\n",
              "      <th>1</th>\n",
              "      <td>EPX</td>\n",
              "      <td>Travel Agency</td>\n",
              "      <td>Online</td>\n",
              "      <td>Cancellation Plan</td>\n",
              "      <td>51</td>\n",
              "      <td>JAPAN</td>\n",
              "      <td>45.0</td>\n",
              "      <td>0.0</td>\n",
              "      <td>NaN</td>\n",
              "      <td>36</td>\n",
              "    </tr>\n",
              "    <tr>\n",
              "      <th>2</th>\n",
              "      <td>EPX</td>\n",
              "      <td>Travel Agency</td>\n",
              "      <td>Online</td>\n",
              "      <td>Cancellation Plan</td>\n",
              "      <td>52</td>\n",
              "      <td>JAPAN</td>\n",
              "      <td>21.0</td>\n",
              "      <td>0.0</td>\n",
              "      <td>NaN</td>\n",
              "      <td>21</td>\n",
              "    </tr>\n",
              "    <tr>\n",
              "      <th>3</th>\n",
              "      <td>EPX</td>\n",
              "      <td>Travel Agency</td>\n",
              "      <td>Online</td>\n",
              "      <td>Cancellation Plan</td>\n",
              "      <td>89</td>\n",
              "      <td>SINGAPORE</td>\n",
              "      <td>11.0</td>\n",
              "      <td>0.0</td>\n",
              "      <td>NaN</td>\n",
              "      <td>30</td>\n",
              "    </tr>\n",
              "    <tr>\n",
              "      <th>4</th>\n",
              "      <td>EPX</td>\n",
              "      <td>Travel Agency</td>\n",
              "      <td>Online</td>\n",
              "      <td>Cancellation Plan</td>\n",
              "      <td>5</td>\n",
              "      <td>MALAYSIA</td>\n",
              "      <td>10.0</td>\n",
              "      <td>0.0</td>\n",
              "      <td>NaN</td>\n",
              "      <td>33</td>\n",
              "    </tr>\n",
              "  </tbody>\n",
              "</table>\n",
              "</div>"
            ],
            "text/plain": [
              "  Agency    Agency Type Distribution Channel  ... Commision (in value)  Gender Age\n",
              "0    EPX  Travel Agency               Online  ...                  0.0     NaN  36\n",
              "1    EPX  Travel Agency               Online  ...                  0.0     NaN  36\n",
              "2    EPX  Travel Agency               Online  ...                  0.0     NaN  21\n",
              "3    EPX  Travel Agency               Online  ...                  0.0     NaN  30\n",
              "4    EPX  Travel Agency               Online  ...                  0.0     NaN  33\n",
              "\n",
              "[5 rows x 10 columns]"
            ]
          },
          "metadata": {
            "tags": []
          },
          "execution_count": 2
        }
      ]
    },
    {
      "cell_type": "code",
      "metadata": {
        "id": "LZQFW2Kr1H8q"
      },
      "source": [
        "test_data['Gender'].fillna('Not Specified', inplace=True)"
      ],
      "execution_count": null,
      "outputs": []
    },
    {
      "cell_type": "code",
      "metadata": {
        "id": "9zRXhytJ1TfV"
      },
      "source": [
        "test_data = test_data.drop(['Distribution Channel', 'Destination', 'Agency Type'], axis =1 )"
      ],
      "execution_count": null,
      "outputs": []
    },
    {
      "cell_type": "code",
      "metadata": {
        "colab": {
          "base_uri": "https://localhost:8080/"
        },
        "id": "ABj_-QWH1f5o",
        "outputId": "83085c92-2028-4f76-e37b-089bc6e1fc4a"
      },
      "source": [
        "from sklearn.preprocessing import OneHotEncoder\r\n",
        "\r\n",
        "encoder = OneHotEncoder(categories='auto',\r\n",
        "                       drop='first', # to return k-1, use drop=false to return k dummies\r\n",
        "                       sparse=False,\r\n",
        "                       handle_unknown='error') # helps deal with rare labels\r\n",
        "encoder.fit(test_data.fillna('Missing'))"
      ],
      "execution_count": null,
      "outputs": [
        {
          "output_type": "execute_result",
          "data": {
            "text/plain": [
              "OneHotEncoder(categories='auto', drop='first', dtype=<class 'numpy.float64'>,\n",
              "              handle_unknown='error', sparse=False)"
            ]
          },
          "metadata": {
            "tags": []
          },
          "execution_count": 5
        }
      ]
    },
    {
      "cell_type": "code",
      "metadata": {
        "id": "q7RqU8Ac1urY"
      },
      "source": [
        "test_data = pd.get_dummies(test_data, columns=['Agency', 'Product Name','Gender'], drop_first=True)"
      ],
      "execution_count": null,
      "outputs": []
    },
    {
      "cell_type": "code",
      "metadata": {
        "id": "L6kwdarrSSgO"
      },
      "source": [
        "from sklearn.model_selection import train_test_split\r\n",
        "from sklearn.model_selection import cross_val_score\r\n",
        "from sklearn.model_selection import GridSearchCV\r\n",
        "from sklearn.ensemble import RandomForestClassifier\r\n",
        "from sklearn.metrics import accuracy_score\r\n",
        "from sklearn.svm import SVC\r\n",
        "rfc2=RandomForestClassifier(random_state=1)\r\n",
        "param_grid2 = { \r\n",
        "    'bootstrap': [True],\r\n",
        "    'max_leaf_nodes': [5, 10, 15, 20],\r\n",
        "    'min_samples_split': [4, 6, 8, 10],\r\n",
        "    'n_estimators':[200]\r\n",
        "\r\n",
        "\r\n",
        "}\r\n",
        "\r\n",
        "CV_rfc2 = GridSearchCV( estimator = rfc2,param_grid=param_grid2, cv=3, verbose=2, n_jobs=-1)"
      ],
      "execution_count": null,
      "outputs": []
    },
    {
      "cell_type": "code",
      "metadata": {
        "id": "eQ2JyFDpWbc7"
      },
      "source": [
        "test_data['Product Name_Travel Cruise Protect Family'] = 0"
      ],
      "execution_count": null,
      "outputs": []
    },
    {
      "cell_type": "code",
      "metadata": {
        "id": "CdSQK-FiYHkC"
      },
      "source": [
        "X_test= X_test.drop(['Product Name_Travel Cruise Protect Family'],axis=1)"
      ],
      "execution_count": null,
      "outputs": []
    },
    {
      "cell_type": "code",
      "metadata": {
        "id": "b5xmzdVP19EF"
      },
      "source": [
        "predictions= CV_rfc2.predict(test_data)\r\n",
        "\r\n",
        "\r\n",
        "#from imblearn.over_sampling import SMOTE\r\n",
        "#smt = SMOTE(random_state=25, sampling_strategy = 1.0 )\r\n",
        "#test_data_SMOTE = smt.fit_sample(test_data)"
      ],
      "execution_count": null,
      "outputs": []
    },
    {
      "cell_type": "code",
      "metadata": {
        "id": "-RQAKmAN3xsT"
      },
      "source": [
        "res = pd.DataFrame(predictions) #preditcions are nothing but the final predictions of your model on input features of your new unseen test data\r\n",
        "res.index = test_data.index # its important for comparison. Here \"test_new\" is your new test dataset\r\n",
        "res.columns = [\"prediction\"] "
      ],
      "execution_count": null,
      "outputs": []
    },
    {
      "cell_type": "code",
      "metadata": {
        "colab": {
          "base_uri": "https://localhost:8080/",
          "height": 17
        },
        "id": "3MBR8XmNcoGy",
        "outputId": "8d4695e0-b401-48e9-8ddb-7a3a1f00c62f"
      },
      "source": [
        "from google.colab import files\r\n",
        "res.to_csv('prediction_results.csv')         \r\n",
        "files.download('prediction_results.csv')"
      ],
      "execution_count": null,
      "outputs": [
        {
          "output_type": "display_data",
          "data": {
            "application/javascript": [
              "\n",
              "    async function download(id, filename, size) {\n",
              "      if (!google.colab.kernel.accessAllowed) {\n",
              "        return;\n",
              "      }\n",
              "      const div = document.createElement('div');\n",
              "      const label = document.createElement('label');\n",
              "      label.textContent = `Downloading \"${filename}\": `;\n",
              "      div.appendChild(label);\n",
              "      const progress = document.createElement('progress');\n",
              "      progress.max = size;\n",
              "      div.appendChild(progress);\n",
              "      document.body.appendChild(div);\n",
              "\n",
              "      const buffers = [];\n",
              "      let downloaded = 0;\n",
              "\n",
              "      const channel = await google.colab.kernel.comms.open(id);\n",
              "      // Send a message to notify the kernel that we're ready.\n",
              "      channel.send({})\n",
              "\n",
              "      for await (const message of channel.messages) {\n",
              "        // Send a message to notify the kernel that we're ready.\n",
              "        channel.send({})\n",
              "        if (message.buffers) {\n",
              "          for (const buffer of message.buffers) {\n",
              "            buffers.push(buffer);\n",
              "            downloaded += buffer.byteLength;\n",
              "            progress.value = downloaded;\n",
              "          }\n",
              "        }\n",
              "      }\n",
              "      const blob = new Blob(buffers, {type: 'application/binary'});\n",
              "      const a = document.createElement('a');\n",
              "      a.href = window.URL.createObjectURL(blob);\n",
              "      a.download = filename;\n",
              "      div.appendChild(a);\n",
              "      a.click();\n",
              "      div.remove();\n",
              "    }\n",
              "  "
            ],
            "text/plain": [
              "<IPython.core.display.Javascript object>"
            ]
          },
          "metadata": {
            "tags": []
          }
        },
        {
          "output_type": "display_data",
          "data": {
            "application/javascript": [
              "download(\"download_eee298e7-446b-46b5-94b1-36a587b76ecb\", \"prediction_results.csv\", 115558)"
            ],
            "text/plain": [
              "<IPython.core.display.Javascript object>"
            ]
          },
          "metadata": {
            "tags": []
          }
        }
      ]
    },
    {
      "cell_type": "code",
      "metadata": {
        "id": "F53LFI9Rd1aD"
      },
      "source": [
        ""
      ],
      "execution_count": null,
      "outputs": []
    }
  ]
}